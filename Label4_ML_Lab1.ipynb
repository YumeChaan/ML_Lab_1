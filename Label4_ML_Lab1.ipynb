{
  "nbformat": 4,
  "nbformat_minor": 0,
  "metadata": {
    "colab": {
      "provenance": []
    },
    "kernelspec": {
      "name": "python3",
      "display_name": "Python 3"
    },
    "language_info": {
      "name": "python"
    }
  },
  "cells": [
    {
      "cell_type": "code",
      "execution_count": null,
      "metadata": {
        "id": "IYrnZvkGKXvS"
      },
      "outputs": [],
      "source": [
        "import pandas as pd\n",
        "import numpy as np\n",
        "\n",
        "labels = ['label_1', 'label_2', 'label_3', 'label_4']\n",
        "features = [f'feature_{i}' for i in range (1,257)]"
      ]
    },
    {
      "cell_type": "code",
      "source": [
        "train_df = pd.read_csv('/content/drive/MyDrive/Colab Notebooks/files/train.csv')\n",
        "valid_df = pd.read_csv('/content/drive/MyDrive/Colab Notebooks/files/valid.csv')\n",
        "test_df = pd.read_csv('/content/drive/MyDrive/Colab Notebooks/files/test.csv')\n",
        "\n",
        "train_df.shape, valid_df.shape, test_df.shape"
      ],
      "metadata": {
        "id": "-W7d8j2FNtuy",
        "colab": {
          "base_uri": "https://localhost:8080/"
        },
        "outputId": "c2ea52cd-d4ed-4907-a636-fd55934a9836"
      },
      "execution_count": null,
      "outputs": [
        {
          "output_type": "execute_result",
          "data": {
            "text/plain": [
              "((28520, 260), (750, 260), (750, 260))"
            ]
          },
          "metadata": {},
          "execution_count": 2
        }
      ]
    },
    {
      "cell_type": "code",
      "source": [
        "from sklearn.preprocessing import StandardScaler\n",
        "\n",
        "x_train = {}\n",
        "y_train = {}\n",
        "\n",
        "x_valid = {}\n",
        "y_valid = {}\n",
        "\n",
        "x_test = {}\n",
        "\n",
        "for label in labels:\n",
        "  tr_df = train_df[train_df['label_2'].notna()] if label == 'label_2' else train_df\n",
        "  vl_df = valid_df\n",
        "\n",
        "  scaler = StandardScaler()\n",
        "  x_train[label] = pd.DataFrame(scaler.fit_transform(tr_df.drop(labels, axis = 1)), columns = features)\n",
        "  y_train[label] = tr_df[label]\n",
        "\n",
        "  x_valid[label] = pd.DataFrame(scaler.transform(vl_df.drop(labels, axis = 1)), columns = features)\n",
        "  y_valid[label] = vl_df[label]\n",
        "\n",
        "  x_test[label] = pd.DataFrame(scaler.transform(vl_df.drop(labels, axis = 1)), columns = features)"
      ],
      "metadata": {
        "id": "f_ks_8DKNvd9"
      },
      "execution_count": null,
      "outputs": []
    },
    {
      "cell_type": "code",
      "source": [
        "from sklearn.neighbors import KNeighborsClassifier\n",
        "\n",
        "knn = KNeighborsClassifier(n_neighbors=3)\n",
        "knn.fit(x_train['label_4'], y_train['label_4'])\n"
      ],
      "metadata": {
        "colab": {
          "base_uri": "https://localhost:8080/",
          "height": 74
        },
        "id": "M8arisqDULoS",
        "outputId": "0e6d9c47-b52a-4a24-b757-39caf17cb994"
      },
      "execution_count": null,
      "outputs": [
        {
          "output_type": "execute_result",
          "data": {
            "text/plain": [
              "KNeighborsClassifier(n_neighbors=3)"
            ],
            "text/html": [
              "<style>#sk-container-id-5 {color: black;background-color: white;}#sk-container-id-5 pre{padding: 0;}#sk-container-id-5 div.sk-toggleable {background-color: white;}#sk-container-id-5 label.sk-toggleable__label {cursor: pointer;display: block;width: 100%;margin-bottom: 0;padding: 0.3em;box-sizing: border-box;text-align: center;}#sk-container-id-5 label.sk-toggleable__label-arrow:before {content: \"▸\";float: left;margin-right: 0.25em;color: #696969;}#sk-container-id-5 label.sk-toggleable__label-arrow:hover:before {color: black;}#sk-container-id-5 div.sk-estimator:hover label.sk-toggleable__label-arrow:before {color: black;}#sk-container-id-5 div.sk-toggleable__content {max-height: 0;max-width: 0;overflow: hidden;text-align: left;background-color: #f0f8ff;}#sk-container-id-5 div.sk-toggleable__content pre {margin: 0.2em;color: black;border-radius: 0.25em;background-color: #f0f8ff;}#sk-container-id-5 input.sk-toggleable__control:checked~div.sk-toggleable__content {max-height: 200px;max-width: 100%;overflow: auto;}#sk-container-id-5 input.sk-toggleable__control:checked~label.sk-toggleable__label-arrow:before {content: \"▾\";}#sk-container-id-5 div.sk-estimator input.sk-toggleable__control:checked~label.sk-toggleable__label {background-color: #d4ebff;}#sk-container-id-5 div.sk-label input.sk-toggleable__control:checked~label.sk-toggleable__label {background-color: #d4ebff;}#sk-container-id-5 input.sk-hidden--visually {border: 0;clip: rect(1px 1px 1px 1px);clip: rect(1px, 1px, 1px, 1px);height: 1px;margin: -1px;overflow: hidden;padding: 0;position: absolute;width: 1px;}#sk-container-id-5 div.sk-estimator {font-family: monospace;background-color: #f0f8ff;border: 1px dotted black;border-radius: 0.25em;box-sizing: border-box;margin-bottom: 0.5em;}#sk-container-id-5 div.sk-estimator:hover {background-color: #d4ebff;}#sk-container-id-5 div.sk-parallel-item::after {content: \"\";width: 100%;border-bottom: 1px solid gray;flex-grow: 1;}#sk-container-id-5 div.sk-label:hover label.sk-toggleable__label {background-color: #d4ebff;}#sk-container-id-5 div.sk-serial::before {content: \"\";position: absolute;border-left: 1px solid gray;box-sizing: border-box;top: 0;bottom: 0;left: 50%;z-index: 0;}#sk-container-id-5 div.sk-serial {display: flex;flex-direction: column;align-items: center;background-color: white;padding-right: 0.2em;padding-left: 0.2em;position: relative;}#sk-container-id-5 div.sk-item {position: relative;z-index: 1;}#sk-container-id-5 div.sk-parallel {display: flex;align-items: stretch;justify-content: center;background-color: white;position: relative;}#sk-container-id-5 div.sk-item::before, #sk-container-id-5 div.sk-parallel-item::before {content: \"\";position: absolute;border-left: 1px solid gray;box-sizing: border-box;top: 0;bottom: 0;left: 50%;z-index: -1;}#sk-container-id-5 div.sk-parallel-item {display: flex;flex-direction: column;z-index: 1;position: relative;background-color: white;}#sk-container-id-5 div.sk-parallel-item:first-child::after {align-self: flex-end;width: 50%;}#sk-container-id-5 div.sk-parallel-item:last-child::after {align-self: flex-start;width: 50%;}#sk-container-id-5 div.sk-parallel-item:only-child::after {width: 0;}#sk-container-id-5 div.sk-dashed-wrapped {border: 1px dashed gray;margin: 0 0.4em 0.5em 0.4em;box-sizing: border-box;padding-bottom: 0.4em;background-color: white;}#sk-container-id-5 div.sk-label label {font-family: monospace;font-weight: bold;display: inline-block;line-height: 1.2em;}#sk-container-id-5 div.sk-label-container {text-align: center;}#sk-container-id-5 div.sk-container {/* jupyter's `normalize.less` sets `[hidden] { display: none; }` but bootstrap.min.css set `[hidden] { display: none !important; }` so we also need the `!important` here to be able to override the default hidden behavior on the sphinx rendered scikit-learn.org. See: https://github.com/scikit-learn/scikit-learn/issues/21755 */display: inline-block !important;position: relative;}#sk-container-id-5 div.sk-text-repr-fallback {display: none;}</style><div id=\"sk-container-id-5\" class=\"sk-top-container\"><div class=\"sk-text-repr-fallback\"><pre>KNeighborsClassifier(n_neighbors=3)</pre><b>In a Jupyter environment, please rerun this cell to show the HTML representation or trust the notebook. <br />On GitHub, the HTML representation is unable to render, please try loading this page with nbviewer.org.</b></div><div class=\"sk-container\" hidden><div class=\"sk-item\"><div class=\"sk-estimator sk-toggleable\"><input class=\"sk-toggleable__control sk-hidden--visually\" id=\"sk-estimator-id-5\" type=\"checkbox\" checked><label for=\"sk-estimator-id-5\" class=\"sk-toggleable__label sk-toggleable__label-arrow\">KNeighborsClassifier</label><div class=\"sk-toggleable__content\"><pre>KNeighborsClassifier(n_neighbors=3)</pre></div></div></div></div></div>"
            ]
          },
          "metadata": {},
          "execution_count": 19
        }
      ]
    },
    {
      "cell_type": "code",
      "source": [
        "y_pred = knn.predict(x_valid['label_4'])"
      ],
      "metadata": {
        "id": "E_49dwElN4gn"
      },
      "execution_count": null,
      "outputs": []
    },
    {
      "cell_type": "code",
      "source": [
        "y_pred_test_before = knn.predict(x_test['label_4'])"
      ],
      "metadata": {
        "id": "3WW4sLk-N7F3"
      },
      "execution_count": null,
      "outputs": []
    },
    {
      "cell_type": "code",
      "source": [
        "from sklearn import metrics\n",
        "\n",
        "print(metrics.confusion_matrix(y_valid['label_4'], y_pred))\n",
        "print(metrics.accuracy_score(y_valid['label_4'], y_pred))\n",
        "print(metrics.precision_score(y_valid['label_4'], y_pred, average='weighted'))\n",
        "print(metrics.recall_score(y_valid['label_4'], y_pred, average='weighted'))"
      ],
      "metadata": {
        "id": "YnAXmsZ5OB8t",
        "colab": {
          "base_uri": "https://localhost:8080/"
        },
        "outputId": "a2c3aa2b-0548-4d87-b1a6-903d5d877d46"
      },
      "execution_count": null,
      "outputs": [
        {
          "output_type": "stream",
          "name": "stdout",
          "text": [
            "[[ 21   0   0   0   0   0   0   0   0   0   0   0   0   0]\n",
            " [  0  10   0   0   0   0   1   0   0   0   0   0   0   0]\n",
            " [  0   0  27   0   0   0   0   0   0   0   0   0   0   0]\n",
            " [  0   0   0   8   0   0   0   0   0   0   0   0   0   0]\n",
            " [  0   0   0   0  15   0   0   0   0   0   0   0   0   0]\n",
            " [  0   0   0   0   0  10   1   0   0   0   0   0   0   0]\n",
            " [  0   0   0   0   0   0 532   0   0   0   0   0   0   0]\n",
            " [  0   0   0   0   0   0   1  31   0   0   0   0   0   0]\n",
            " [  0   0   0   0   0   0   0   0  19   0   0   0   0   0]\n",
            " [  0   0   0   0   0   0   0   0   0  17   0   0   0   0]\n",
            " [  0   0   0   0   0   0   0   0   0   0  10   0   0   0]\n",
            " [  0   0   0   0   0   0   0   0   0   0   0  11   0   0]\n",
            " [  0   0   0   0   0   0   0   1   0   0   0   0  25   0]\n",
            " [  0   0   0   0   0   0   0   0   0   0   0   0   0  10]]\n",
            "0.9946666666666667\n",
            "0.9946890965732088\n",
            "0.9946666666666667\n"
          ]
        }
      ]
    },
    {
      "cell_type": "code",
      "source": [
        "from sklearn.feature_selection import SelectKBest, f_classif\n",
        "\n",
        "selector = SelectKBest(f_classif, k=60)\n",
        "x_train_kBest = selector.fit_transform(x_train['label_4'], y_train['label_4'])\n",
        "x_valid_kBest = selector.transform(x_valid['label_4'])\n",
        "x_test_kBest = selector.transform(x_test['label_4'])\n",
        "print (x_train_kBest.shape)\n",
        "print (x_valid_kBest.shape)\n",
        "print (x_test_kBest.shape)"
      ],
      "metadata": {
        "colab": {
          "base_uri": "https://localhost:8080/"
        },
        "id": "3PuqI8O7WyI1",
        "outputId": "34d0167d-01ec-4de8-e947-197308e769d9"
      },
      "execution_count": null,
      "outputs": [
        {
          "output_type": "stream",
          "name": "stdout",
          "text": [
            "(28520, 60)\n",
            "(750, 60)\n",
            "(750, 60)\n"
          ]
        }
      ]
    },
    {
      "cell_type": "code",
      "source": [
        "knn = KNeighborsClassifier(n_neighbors=3)\n",
        "knn.fit(x_train_kBest, y_train['label_4'])"
      ],
      "metadata": {
        "colab": {
          "base_uri": "https://localhost:8080/",
          "height": 74
        },
        "id": "gWJ2QA3-XzU9",
        "outputId": "2036cb53-25f4-44ff-9ef9-2e753f8f772b"
      },
      "execution_count": null,
      "outputs": [
        {
          "output_type": "execute_result",
          "data": {
            "text/plain": [
              "KNeighborsClassifier(n_neighbors=3)"
            ],
            "text/html": [
              "<style>#sk-container-id-10 {color: black;background-color: white;}#sk-container-id-10 pre{padding: 0;}#sk-container-id-10 div.sk-toggleable {background-color: white;}#sk-container-id-10 label.sk-toggleable__label {cursor: pointer;display: block;width: 100%;margin-bottom: 0;padding: 0.3em;box-sizing: border-box;text-align: center;}#sk-container-id-10 label.sk-toggleable__label-arrow:before {content: \"▸\";float: left;margin-right: 0.25em;color: #696969;}#sk-container-id-10 label.sk-toggleable__label-arrow:hover:before {color: black;}#sk-container-id-10 div.sk-estimator:hover label.sk-toggleable__label-arrow:before {color: black;}#sk-container-id-10 div.sk-toggleable__content {max-height: 0;max-width: 0;overflow: hidden;text-align: left;background-color: #f0f8ff;}#sk-container-id-10 div.sk-toggleable__content pre {margin: 0.2em;color: black;border-radius: 0.25em;background-color: #f0f8ff;}#sk-container-id-10 input.sk-toggleable__control:checked~div.sk-toggleable__content {max-height: 200px;max-width: 100%;overflow: auto;}#sk-container-id-10 input.sk-toggleable__control:checked~label.sk-toggleable__label-arrow:before {content: \"▾\";}#sk-container-id-10 div.sk-estimator input.sk-toggleable__control:checked~label.sk-toggleable__label {background-color: #d4ebff;}#sk-container-id-10 div.sk-label input.sk-toggleable__control:checked~label.sk-toggleable__label {background-color: #d4ebff;}#sk-container-id-10 input.sk-hidden--visually {border: 0;clip: rect(1px 1px 1px 1px);clip: rect(1px, 1px, 1px, 1px);height: 1px;margin: -1px;overflow: hidden;padding: 0;position: absolute;width: 1px;}#sk-container-id-10 div.sk-estimator {font-family: monospace;background-color: #f0f8ff;border: 1px dotted black;border-radius: 0.25em;box-sizing: border-box;margin-bottom: 0.5em;}#sk-container-id-10 div.sk-estimator:hover {background-color: #d4ebff;}#sk-container-id-10 div.sk-parallel-item::after {content: \"\";width: 100%;border-bottom: 1px solid gray;flex-grow: 1;}#sk-container-id-10 div.sk-label:hover label.sk-toggleable__label {background-color: #d4ebff;}#sk-container-id-10 div.sk-serial::before {content: \"\";position: absolute;border-left: 1px solid gray;box-sizing: border-box;top: 0;bottom: 0;left: 50%;z-index: 0;}#sk-container-id-10 div.sk-serial {display: flex;flex-direction: column;align-items: center;background-color: white;padding-right: 0.2em;padding-left: 0.2em;position: relative;}#sk-container-id-10 div.sk-item {position: relative;z-index: 1;}#sk-container-id-10 div.sk-parallel {display: flex;align-items: stretch;justify-content: center;background-color: white;position: relative;}#sk-container-id-10 div.sk-item::before, #sk-container-id-10 div.sk-parallel-item::before {content: \"\";position: absolute;border-left: 1px solid gray;box-sizing: border-box;top: 0;bottom: 0;left: 50%;z-index: -1;}#sk-container-id-10 div.sk-parallel-item {display: flex;flex-direction: column;z-index: 1;position: relative;background-color: white;}#sk-container-id-10 div.sk-parallel-item:first-child::after {align-self: flex-end;width: 50%;}#sk-container-id-10 div.sk-parallel-item:last-child::after {align-self: flex-start;width: 50%;}#sk-container-id-10 div.sk-parallel-item:only-child::after {width: 0;}#sk-container-id-10 div.sk-dashed-wrapped {border: 1px dashed gray;margin: 0 0.4em 0.5em 0.4em;box-sizing: border-box;padding-bottom: 0.4em;background-color: white;}#sk-container-id-10 div.sk-label label {font-family: monospace;font-weight: bold;display: inline-block;line-height: 1.2em;}#sk-container-id-10 div.sk-label-container {text-align: center;}#sk-container-id-10 div.sk-container {/* jupyter's `normalize.less` sets `[hidden] { display: none; }` but bootstrap.min.css set `[hidden] { display: none !important; }` so we also need the `!important` here to be able to override the default hidden behavior on the sphinx rendered scikit-learn.org. See: https://github.com/scikit-learn/scikit-learn/issues/21755 */display: inline-block !important;position: relative;}#sk-container-id-10 div.sk-text-repr-fallback {display: none;}</style><div id=\"sk-container-id-10\" class=\"sk-top-container\"><div class=\"sk-text-repr-fallback\"><pre>KNeighborsClassifier(n_neighbors=3)</pre><b>In a Jupyter environment, please rerun this cell to show the HTML representation or trust the notebook. <br />On GitHub, the HTML representation is unable to render, please try loading this page with nbviewer.org.</b></div><div class=\"sk-container\" hidden><div class=\"sk-item\"><div class=\"sk-estimator sk-toggleable\"><input class=\"sk-toggleable__control sk-hidden--visually\" id=\"sk-estimator-id-10\" type=\"checkbox\" checked><label for=\"sk-estimator-id-10\" class=\"sk-toggleable__label sk-toggleable__label-arrow\">KNeighborsClassifier</label><div class=\"sk-toggleable__content\"><pre>KNeighborsClassifier(n_neighbors=3)</pre></div></div></div></div></div>"
            ]
          },
          "metadata": {},
          "execution_count": 40
        }
      ]
    },
    {
      "cell_type": "code",
      "source": [
        "y_pred = knn.predict(x_valid_kBest)\n",
        "y_pred_test = knn.predict(x_test_kBest)\n",
        "print(metrics.confusion_matrix(y_valid['label_4'], y_pred))\n",
        "print(metrics.accuracy_score(y_valid['label_4'], y_pred))\n",
        "print(metrics.precision_score(y_valid['label_4'], y_pred, average='weighted'))\n",
        "print(metrics.recall_score(y_valid['label_4'], y_pred, average='weighted'))"
      ],
      "metadata": {
        "colab": {
          "base_uri": "https://localhost:8080/"
        },
        "id": "AsiMIdyHX9IX",
        "outputId": "27665bde-b491-4260-992c-a2c2abfcd9c7"
      },
      "execution_count": null,
      "outputs": [
        {
          "output_type": "stream",
          "name": "stdout",
          "text": [
            "[[ 20   0   0   0   0   0   1   0   0   0   0   0   0   0]\n",
            " [  0  11   0   0   0   0   0   0   0   0   0   0   0   0]\n",
            " [  0   0  27   0   0   0   0   0   0   0   0   0   0   0]\n",
            " [  0   0   0   8   0   0   0   0   0   0   0   0   0   0]\n",
            " [  0   0   0   0  15   0   0   0   0   0   0   0   0   0]\n",
            " [  0   0   0   0   0  10   1   0   0   0   0   0   0   0]\n",
            " [  1   0   0   0   0   0 531   0   0   0   0   0   0   0]\n",
            " [  0   0   0   0   0   0   1  31   0   0   0   0   0   0]\n",
            " [  0   0   0   0   0   0   1   0  18   0   0   0   0   0]\n",
            " [  0   0   0   0   0   0   0   0   0  17   0   0   0   0]\n",
            " [  0   0   0   0   0   0   0   0   0   0  10   0   0   0]\n",
            " [  0   0   0   0   0   0   0   0   0   0   0  11   0   0]\n",
            " [  0   0   0   0   0   0   3   1   0   0   0   0  22   0]\n",
            " [  0   0   0   0   0   0   0   0   0   0   0   0   0  10]]\n",
            "0.988\n",
            "0.9881040892193308\n",
            "0.988\n"
          ]
        }
      ]
    },
    {
      "cell_type": "code",
      "source": [
        "from sklearn.decomposition import PCA\n",
        "\n",
        "pca = PCA(n_components= 0.95, svd_solver='full')\n",
        "pca.fit(x_train_kBest)\n",
        "x_train_trf = pd.DataFrame(pca.transform(x_train_kBest))\n",
        "x_valid_trf = pd.DataFrame(pca.transform(x_valid_kBest))\n",
        "x_test_trf = pd.DataFrame(pca.transform(x_test_kBest))\n",
        "print(x_train_trf.shape)\n",
        "print(x_valid_trf.shape)\n",
        "print(x_test_trf.shape)"
      ],
      "metadata": {
        "colab": {
          "base_uri": "https://localhost:8080/"
        },
        "id": "qq4CnRyVYJKp",
        "outputId": "56116ba4-2e4d-42be-d31e-d8d024757a9b"
      },
      "execution_count": null,
      "outputs": [
        {
          "output_type": "stream",
          "name": "stdout",
          "text": [
            "(28520, 37)\n",
            "(750, 37)\n",
            "(750, 37)\n"
          ]
        }
      ]
    },
    {
      "cell_type": "code",
      "source": [
        "knn = KNeighborsClassifier(n_neighbors=3)\n",
        "knn.fit(x_train_trf, y_train['label_4'])"
      ],
      "metadata": {
        "colab": {
          "base_uri": "https://localhost:8080/",
          "height": 74
        },
        "id": "w4ltpVNYYOS5",
        "outputId": "b8c42256-7c99-48a7-f5e9-f28db45a0382"
      },
      "execution_count": null,
      "outputs": [
        {
          "output_type": "execute_result",
          "data": {
            "text/plain": [
              "KNeighborsClassifier(n_neighbors=3)"
            ],
            "text/html": [
              "<style>#sk-container-id-11 {color: black;background-color: white;}#sk-container-id-11 pre{padding: 0;}#sk-container-id-11 div.sk-toggleable {background-color: white;}#sk-container-id-11 label.sk-toggleable__label {cursor: pointer;display: block;width: 100%;margin-bottom: 0;padding: 0.3em;box-sizing: border-box;text-align: center;}#sk-container-id-11 label.sk-toggleable__label-arrow:before {content: \"▸\";float: left;margin-right: 0.25em;color: #696969;}#sk-container-id-11 label.sk-toggleable__label-arrow:hover:before {color: black;}#sk-container-id-11 div.sk-estimator:hover label.sk-toggleable__label-arrow:before {color: black;}#sk-container-id-11 div.sk-toggleable__content {max-height: 0;max-width: 0;overflow: hidden;text-align: left;background-color: #f0f8ff;}#sk-container-id-11 div.sk-toggleable__content pre {margin: 0.2em;color: black;border-radius: 0.25em;background-color: #f0f8ff;}#sk-container-id-11 input.sk-toggleable__control:checked~div.sk-toggleable__content {max-height: 200px;max-width: 100%;overflow: auto;}#sk-container-id-11 input.sk-toggleable__control:checked~label.sk-toggleable__label-arrow:before {content: \"▾\";}#sk-container-id-11 div.sk-estimator input.sk-toggleable__control:checked~label.sk-toggleable__label {background-color: #d4ebff;}#sk-container-id-11 div.sk-label input.sk-toggleable__control:checked~label.sk-toggleable__label {background-color: #d4ebff;}#sk-container-id-11 input.sk-hidden--visually {border: 0;clip: rect(1px 1px 1px 1px);clip: rect(1px, 1px, 1px, 1px);height: 1px;margin: -1px;overflow: hidden;padding: 0;position: absolute;width: 1px;}#sk-container-id-11 div.sk-estimator {font-family: monospace;background-color: #f0f8ff;border: 1px dotted black;border-radius: 0.25em;box-sizing: border-box;margin-bottom: 0.5em;}#sk-container-id-11 div.sk-estimator:hover {background-color: #d4ebff;}#sk-container-id-11 div.sk-parallel-item::after {content: \"\";width: 100%;border-bottom: 1px solid gray;flex-grow: 1;}#sk-container-id-11 div.sk-label:hover label.sk-toggleable__label {background-color: #d4ebff;}#sk-container-id-11 div.sk-serial::before {content: \"\";position: absolute;border-left: 1px solid gray;box-sizing: border-box;top: 0;bottom: 0;left: 50%;z-index: 0;}#sk-container-id-11 div.sk-serial {display: flex;flex-direction: column;align-items: center;background-color: white;padding-right: 0.2em;padding-left: 0.2em;position: relative;}#sk-container-id-11 div.sk-item {position: relative;z-index: 1;}#sk-container-id-11 div.sk-parallel {display: flex;align-items: stretch;justify-content: center;background-color: white;position: relative;}#sk-container-id-11 div.sk-item::before, #sk-container-id-11 div.sk-parallel-item::before {content: \"\";position: absolute;border-left: 1px solid gray;box-sizing: border-box;top: 0;bottom: 0;left: 50%;z-index: -1;}#sk-container-id-11 div.sk-parallel-item {display: flex;flex-direction: column;z-index: 1;position: relative;background-color: white;}#sk-container-id-11 div.sk-parallel-item:first-child::after {align-self: flex-end;width: 50%;}#sk-container-id-11 div.sk-parallel-item:last-child::after {align-self: flex-start;width: 50%;}#sk-container-id-11 div.sk-parallel-item:only-child::after {width: 0;}#sk-container-id-11 div.sk-dashed-wrapped {border: 1px dashed gray;margin: 0 0.4em 0.5em 0.4em;box-sizing: border-box;padding-bottom: 0.4em;background-color: white;}#sk-container-id-11 div.sk-label label {font-family: monospace;font-weight: bold;display: inline-block;line-height: 1.2em;}#sk-container-id-11 div.sk-label-container {text-align: center;}#sk-container-id-11 div.sk-container {/* jupyter's `normalize.less` sets `[hidden] { display: none; }` but bootstrap.min.css set `[hidden] { display: none !important; }` so we also need the `!important` here to be able to override the default hidden behavior on the sphinx rendered scikit-learn.org. See: https://github.com/scikit-learn/scikit-learn/issues/21755 */display: inline-block !important;position: relative;}#sk-container-id-11 div.sk-text-repr-fallback {display: none;}</style><div id=\"sk-container-id-11\" class=\"sk-top-container\"><div class=\"sk-text-repr-fallback\"><pre>KNeighborsClassifier(n_neighbors=3)</pre><b>In a Jupyter environment, please rerun this cell to show the HTML representation or trust the notebook. <br />On GitHub, the HTML representation is unable to render, please try loading this page with nbviewer.org.</b></div><div class=\"sk-container\" hidden><div class=\"sk-item\"><div class=\"sk-estimator sk-toggleable\"><input class=\"sk-toggleable__control sk-hidden--visually\" id=\"sk-estimator-id-11\" type=\"checkbox\" checked><label for=\"sk-estimator-id-11\" class=\"sk-toggleable__label sk-toggleable__label-arrow\">KNeighborsClassifier</label><div class=\"sk-toggleable__content\"><pre>KNeighborsClassifier(n_neighbors=3)</pre></div></div></div></div></div>"
            ]
          },
          "metadata": {},
          "execution_count": 43
        }
      ]
    },
    {
      "cell_type": "code",
      "source": [
        "y_pred = knn.predict(x_valid_trf)\n",
        "y_pred_test_after = knn.predict(x_test_trf)\n",
        "print(metrics.confusion_matrix(y_valid['label_4'], y_pred))\n",
        "print(metrics.accuracy_score(y_valid['label_4'], y_pred))\n",
        "print(metrics.precision_score(y_valid['label_4'], y_pred, average='weighted'))\n",
        "print(metrics.recall_score(y_valid['label_4'], y_pred, average='weighted'))"
      ],
      "metadata": {
        "colab": {
          "base_uri": "https://localhost:8080/"
        },
        "id": "eoafduHSYpcA",
        "outputId": "68db36ab-1c05-42ad-9547-2f4c30c085bf"
      },
      "execution_count": null,
      "outputs": [
        {
          "output_type": "stream",
          "name": "stdout",
          "text": [
            "[[ 20   0   0   0   0   0   1   0   0   0   0   0   0   0]\n",
            " [  0  10   0   0   0   0   0   1   0   0   0   0   0   0]\n",
            " [  0   0  27   0   0   0   0   0   0   0   0   0   0   0]\n",
            " [  0   0   0   8   0   0   0   0   0   0   0   0   0   0]\n",
            " [  0   0   0   0  15   0   0   0   0   0   0   0   0   0]\n",
            " [  0   0   0   0   0  10   1   0   0   0   0   0   0   0]\n",
            " [  1   0   0   0   0   0 531   0   0   0   0   0   0   0]\n",
            " [  1   0   0   0   0   0   1  30   0   0   0   0   0   0]\n",
            " [  0   0   0   0   0   0   0   1  18   0   0   0   0   0]\n",
            " [  0   0   0   0   0   0   0   0   0  17   0   0   0   0]\n",
            " [  0   0   0   0   0   0   0   0   0   0  10   0   0   0]\n",
            " [  0   0   0   0   0   0   0   0   0   0   0  11   0   0]\n",
            " [  0   1   0   0   0   0   3   0   0   0   0   0  22   0]\n",
            " [  0   0   0   0   0   0   0   0   0   0   0   0   0  10]]\n",
            "0.9853333333333333\n",
            "0.9855290333502624\n",
            "0.9853333333333333\n"
          ]
        }
      ]
    },
    {
      "cell_type": "code",
      "source": [
        "num_new_features = x_test_trf.shape[1]\n",
        "print(num_new_features)"
      ],
      "metadata": {
        "colab": {
          "base_uri": "https://localhost:8080/"
        },
        "id": "qpcdbabUZI2I",
        "outputId": "4cefcb55-54bb-407d-d704-e69c59aaf025"
      },
      "execution_count": null,
      "outputs": [
        {
          "output_type": "stream",
          "name": "stdout",
          "text": [
            "37\n"
          ]
        }
      ]
    },
    {
      "cell_type": "code",
      "source": [
        "output_df = pd.DataFrame({\n",
        "    'Predicted labels before feature engineering': y_pred_test_before,\n",
        "    'Predicted labels after feature engineering': y_pred_test_after,\n",
        "    'No. of new features': x_test_trf.shape[1]\n",
        "})\n",
        "\n",
        "for i in range(x_test_trf.shape[1]):\n",
        "    output_df[f'new feature {i+1}'] = x_test_trf.iloc[:, i]\n",
        "\n",
        "output_df"
      ],
      "metadata": {
        "colab": {
          "base_uri": "https://localhost:8080/",
          "height": 513
        },
        "id": "0f9Jd9gFZLbc",
        "outputId": "5b940a6f-7b37-44cd-f3b2-ab011a655b71"
      },
      "execution_count": null,
      "outputs": [
        {
          "output_type": "execute_result",
          "data": {
            "text/plain": [
              "     Predicted labels before feature engineering  \\\n",
              "0                                              6   \n",
              "1                                              6   \n",
              "2                                              6   \n",
              "3                                              6   \n",
              "4                                              6   \n",
              "..                                           ...   \n",
              "745                                            6   \n",
              "746                                            6   \n",
              "747                                            6   \n",
              "748                                            6   \n",
              "749                                            6   \n",
              "\n",
              "     Predicted labels after feature engineering  No. of new features  \\\n",
              "0                                             6                   37   \n",
              "1                                             6                   37   \n",
              "2                                             6                   37   \n",
              "3                                             6                   37   \n",
              "4                                             6                   37   \n",
              "..                                          ...                  ...   \n",
              "745                                           6                   37   \n",
              "746                                           6                   37   \n",
              "747                                           6                   37   \n",
              "748                                           6                   37   \n",
              "749                                           6                   37   \n",
              "\n",
              "     new feature 1  new feature 2  new feature 3  new feature 4  \\\n",
              "0        -3.313408       3.971337       1.744291      -0.804551   \n",
              "1        -4.340096       3.241674      -1.058111      -1.382537   \n",
              "2        -3.711165       1.282441       2.467684       0.332289   \n",
              "3        -2.151661      -0.213248       3.624044      -0.046254   \n",
              "4        -4.479495      -0.420705       3.052763      -0.525286   \n",
              "..             ...            ...            ...            ...   \n",
              "745      -1.061815      -1.941989      -0.653881      -0.239028   \n",
              "746      -4.198447       1.330081      -2.351318       1.980400   \n",
              "747      -1.224442      -2.176131      -1.344708      -1.061307   \n",
              "748      -0.701875      -3.937709       0.348316      -1.681283   \n",
              "749      -1.611689       1.069066      -2.917229      -0.672164   \n",
              "\n",
              "     new feature 5  new feature 6  new feature 7  ...  new feature 28  \\\n",
              "0         2.756000      -1.223531      -0.225108  ...       -0.723412   \n",
              "1         4.635603      -1.649134      -0.052092  ...       -0.796131   \n",
              "2         2.056713      -1.179571       2.993641  ...       -1.575480   \n",
              "3         1.672402      -0.770450       1.351400  ...        0.825445   \n",
              "4         3.458332      -0.049744       0.000096  ...       -1.270208   \n",
              "..             ...            ...            ...  ...             ...   \n",
              "745       1.576374      -1.518824       2.429679  ...       -0.025595   \n",
              "746      -2.561068      -0.411105      -1.372720  ...       -0.110202   \n",
              "747      -0.928321      -2.590136       2.567057  ...       -0.548131   \n",
              "748      -0.470682      -0.098422       1.446497  ...       -0.804841   \n",
              "749      -0.381038      -1.435102       0.020197  ...       -0.888951   \n",
              "\n",
              "     new feature 29  new feature 30  new feature 31  new feature 32  \\\n",
              "0          0.744039       -0.894402        1.539021       -0.305422   \n",
              "1          1.362043       -0.149149        1.266280        0.036471   \n",
              "2          0.713239       -0.146178       -0.258767       -0.129922   \n",
              "3          0.792099        0.198310        0.031420       -0.335194   \n",
              "4          1.936805       -0.146642        0.133789        0.110009   \n",
              "..              ...             ...             ...             ...   \n",
              "745        0.203848       -0.237023        0.531899       -0.314948   \n",
              "746        0.369643       -0.309416        0.796288        0.895817   \n",
              "747        0.679761       -0.089944        0.661706       -0.305274   \n",
              "748       -1.316879       -0.174902       -0.054609       -0.009838   \n",
              "749       -0.291154       -0.583354       -0.794796       -1.124176   \n",
              "\n",
              "     new feature 33  new feature 34  new feature 35  new feature 36  \\\n",
              "0         -0.314277       -0.854320        0.447029        0.516338   \n",
              "1          0.433333       -0.955409       -0.820698        0.330251   \n",
              "2         -0.138110       -0.494576        0.289759       -0.500893   \n",
              "3         -0.782582        0.064115        0.249965       -0.470602   \n",
              "4         -0.701704       -0.733898       -0.442450        0.523941   \n",
              "..              ...             ...             ...             ...   \n",
              "745        1.250377       -0.278585       -0.164459        0.637839   \n",
              "746        1.278864       -0.342137        0.535824       -0.339322   \n",
              "747        1.001046       -0.166890        0.912449        0.399666   \n",
              "748        1.212103        0.255034        0.407127       -0.088884   \n",
              "749        0.838788        0.252321        1.229161        0.568089   \n",
              "\n",
              "     new feature 37  \n",
              "0         -0.608075  \n",
              "1         -0.128613  \n",
              "2          0.695137  \n",
              "3         -0.293663  \n",
              "4         -0.482758  \n",
              "..              ...  \n",
              "745        0.935229  \n",
              "746        0.299136  \n",
              "747        0.487644  \n",
              "748        1.372577  \n",
              "749        0.132520  \n",
              "\n",
              "[750 rows x 40 columns]"
            ],
            "text/html": [
              "\n",
              "  <div id=\"df-0f6dde80-e028-4ce3-9bad-13f825bf3ecb\" class=\"colab-df-container\">\n",
              "    <div>\n",
              "<style scoped>\n",
              "    .dataframe tbody tr th:only-of-type {\n",
              "        vertical-align: middle;\n",
              "    }\n",
              "\n",
              "    .dataframe tbody tr th {\n",
              "        vertical-align: top;\n",
              "    }\n",
              "\n",
              "    .dataframe thead th {\n",
              "        text-align: right;\n",
              "    }\n",
              "</style>\n",
              "<table border=\"1\" class=\"dataframe\">\n",
              "  <thead>\n",
              "    <tr style=\"text-align: right;\">\n",
              "      <th></th>\n",
              "      <th>Predicted labels before feature engineering</th>\n",
              "      <th>Predicted labels after feature engineering</th>\n",
              "      <th>No. of new features</th>\n",
              "      <th>new feature 1</th>\n",
              "      <th>new feature 2</th>\n",
              "      <th>new feature 3</th>\n",
              "      <th>new feature 4</th>\n",
              "      <th>new feature 5</th>\n",
              "      <th>new feature 6</th>\n",
              "      <th>new feature 7</th>\n",
              "      <th>...</th>\n",
              "      <th>new feature 28</th>\n",
              "      <th>new feature 29</th>\n",
              "      <th>new feature 30</th>\n",
              "      <th>new feature 31</th>\n",
              "      <th>new feature 32</th>\n",
              "      <th>new feature 33</th>\n",
              "      <th>new feature 34</th>\n",
              "      <th>new feature 35</th>\n",
              "      <th>new feature 36</th>\n",
              "      <th>new feature 37</th>\n",
              "    </tr>\n",
              "  </thead>\n",
              "  <tbody>\n",
              "    <tr>\n",
              "      <th>0</th>\n",
              "      <td>6</td>\n",
              "      <td>6</td>\n",
              "      <td>37</td>\n",
              "      <td>-3.313408</td>\n",
              "      <td>3.971337</td>\n",
              "      <td>1.744291</td>\n",
              "      <td>-0.804551</td>\n",
              "      <td>2.756000</td>\n",
              "      <td>-1.223531</td>\n",
              "      <td>-0.225108</td>\n",
              "      <td>...</td>\n",
              "      <td>-0.723412</td>\n",
              "      <td>0.744039</td>\n",
              "      <td>-0.894402</td>\n",
              "      <td>1.539021</td>\n",
              "      <td>-0.305422</td>\n",
              "      <td>-0.314277</td>\n",
              "      <td>-0.854320</td>\n",
              "      <td>0.447029</td>\n",
              "      <td>0.516338</td>\n",
              "      <td>-0.608075</td>\n",
              "    </tr>\n",
              "    <tr>\n",
              "      <th>1</th>\n",
              "      <td>6</td>\n",
              "      <td>6</td>\n",
              "      <td>37</td>\n",
              "      <td>-4.340096</td>\n",
              "      <td>3.241674</td>\n",
              "      <td>-1.058111</td>\n",
              "      <td>-1.382537</td>\n",
              "      <td>4.635603</td>\n",
              "      <td>-1.649134</td>\n",
              "      <td>-0.052092</td>\n",
              "      <td>...</td>\n",
              "      <td>-0.796131</td>\n",
              "      <td>1.362043</td>\n",
              "      <td>-0.149149</td>\n",
              "      <td>1.266280</td>\n",
              "      <td>0.036471</td>\n",
              "      <td>0.433333</td>\n",
              "      <td>-0.955409</td>\n",
              "      <td>-0.820698</td>\n",
              "      <td>0.330251</td>\n",
              "      <td>-0.128613</td>\n",
              "    </tr>\n",
              "    <tr>\n",
              "      <th>2</th>\n",
              "      <td>6</td>\n",
              "      <td>6</td>\n",
              "      <td>37</td>\n",
              "      <td>-3.711165</td>\n",
              "      <td>1.282441</td>\n",
              "      <td>2.467684</td>\n",
              "      <td>0.332289</td>\n",
              "      <td>2.056713</td>\n",
              "      <td>-1.179571</td>\n",
              "      <td>2.993641</td>\n",
              "      <td>...</td>\n",
              "      <td>-1.575480</td>\n",
              "      <td>0.713239</td>\n",
              "      <td>-0.146178</td>\n",
              "      <td>-0.258767</td>\n",
              "      <td>-0.129922</td>\n",
              "      <td>-0.138110</td>\n",
              "      <td>-0.494576</td>\n",
              "      <td>0.289759</td>\n",
              "      <td>-0.500893</td>\n",
              "      <td>0.695137</td>\n",
              "    </tr>\n",
              "    <tr>\n",
              "      <th>3</th>\n",
              "      <td>6</td>\n",
              "      <td>6</td>\n",
              "      <td>37</td>\n",
              "      <td>-2.151661</td>\n",
              "      <td>-0.213248</td>\n",
              "      <td>3.624044</td>\n",
              "      <td>-0.046254</td>\n",
              "      <td>1.672402</td>\n",
              "      <td>-0.770450</td>\n",
              "      <td>1.351400</td>\n",
              "      <td>...</td>\n",
              "      <td>0.825445</td>\n",
              "      <td>0.792099</td>\n",
              "      <td>0.198310</td>\n",
              "      <td>0.031420</td>\n",
              "      <td>-0.335194</td>\n",
              "      <td>-0.782582</td>\n",
              "      <td>0.064115</td>\n",
              "      <td>0.249965</td>\n",
              "      <td>-0.470602</td>\n",
              "      <td>-0.293663</td>\n",
              "    </tr>\n",
              "    <tr>\n",
              "      <th>4</th>\n",
              "      <td>6</td>\n",
              "      <td>6</td>\n",
              "      <td>37</td>\n",
              "      <td>-4.479495</td>\n",
              "      <td>-0.420705</td>\n",
              "      <td>3.052763</td>\n",
              "      <td>-0.525286</td>\n",
              "      <td>3.458332</td>\n",
              "      <td>-0.049744</td>\n",
              "      <td>0.000096</td>\n",
              "      <td>...</td>\n",
              "      <td>-1.270208</td>\n",
              "      <td>1.936805</td>\n",
              "      <td>-0.146642</td>\n",
              "      <td>0.133789</td>\n",
              "      <td>0.110009</td>\n",
              "      <td>-0.701704</td>\n",
              "      <td>-0.733898</td>\n",
              "      <td>-0.442450</td>\n",
              "      <td>0.523941</td>\n",
              "      <td>-0.482758</td>\n",
              "    </tr>\n",
              "    <tr>\n",
              "      <th>...</th>\n",
              "      <td>...</td>\n",
              "      <td>...</td>\n",
              "      <td>...</td>\n",
              "      <td>...</td>\n",
              "      <td>...</td>\n",
              "      <td>...</td>\n",
              "      <td>...</td>\n",
              "      <td>...</td>\n",
              "      <td>...</td>\n",
              "      <td>...</td>\n",
              "      <td>...</td>\n",
              "      <td>...</td>\n",
              "      <td>...</td>\n",
              "      <td>...</td>\n",
              "      <td>...</td>\n",
              "      <td>...</td>\n",
              "      <td>...</td>\n",
              "      <td>...</td>\n",
              "      <td>...</td>\n",
              "      <td>...</td>\n",
              "      <td>...</td>\n",
              "    </tr>\n",
              "    <tr>\n",
              "      <th>745</th>\n",
              "      <td>6</td>\n",
              "      <td>6</td>\n",
              "      <td>37</td>\n",
              "      <td>-1.061815</td>\n",
              "      <td>-1.941989</td>\n",
              "      <td>-0.653881</td>\n",
              "      <td>-0.239028</td>\n",
              "      <td>1.576374</td>\n",
              "      <td>-1.518824</td>\n",
              "      <td>2.429679</td>\n",
              "      <td>...</td>\n",
              "      <td>-0.025595</td>\n",
              "      <td>0.203848</td>\n",
              "      <td>-0.237023</td>\n",
              "      <td>0.531899</td>\n",
              "      <td>-0.314948</td>\n",
              "      <td>1.250377</td>\n",
              "      <td>-0.278585</td>\n",
              "      <td>-0.164459</td>\n",
              "      <td>0.637839</td>\n",
              "      <td>0.935229</td>\n",
              "    </tr>\n",
              "    <tr>\n",
              "      <th>746</th>\n",
              "      <td>6</td>\n",
              "      <td>6</td>\n",
              "      <td>37</td>\n",
              "      <td>-4.198447</td>\n",
              "      <td>1.330081</td>\n",
              "      <td>-2.351318</td>\n",
              "      <td>1.980400</td>\n",
              "      <td>-2.561068</td>\n",
              "      <td>-0.411105</td>\n",
              "      <td>-1.372720</td>\n",
              "      <td>...</td>\n",
              "      <td>-0.110202</td>\n",
              "      <td>0.369643</td>\n",
              "      <td>-0.309416</td>\n",
              "      <td>0.796288</td>\n",
              "      <td>0.895817</td>\n",
              "      <td>1.278864</td>\n",
              "      <td>-0.342137</td>\n",
              "      <td>0.535824</td>\n",
              "      <td>-0.339322</td>\n",
              "      <td>0.299136</td>\n",
              "    </tr>\n",
              "    <tr>\n",
              "      <th>747</th>\n",
              "      <td>6</td>\n",
              "      <td>6</td>\n",
              "      <td>37</td>\n",
              "      <td>-1.224442</td>\n",
              "      <td>-2.176131</td>\n",
              "      <td>-1.344708</td>\n",
              "      <td>-1.061307</td>\n",
              "      <td>-0.928321</td>\n",
              "      <td>-2.590136</td>\n",
              "      <td>2.567057</td>\n",
              "      <td>...</td>\n",
              "      <td>-0.548131</td>\n",
              "      <td>0.679761</td>\n",
              "      <td>-0.089944</td>\n",
              "      <td>0.661706</td>\n",
              "      <td>-0.305274</td>\n",
              "      <td>1.001046</td>\n",
              "      <td>-0.166890</td>\n",
              "      <td>0.912449</td>\n",
              "      <td>0.399666</td>\n",
              "      <td>0.487644</td>\n",
              "    </tr>\n",
              "    <tr>\n",
              "      <th>748</th>\n",
              "      <td>6</td>\n",
              "      <td>6</td>\n",
              "      <td>37</td>\n",
              "      <td>-0.701875</td>\n",
              "      <td>-3.937709</td>\n",
              "      <td>0.348316</td>\n",
              "      <td>-1.681283</td>\n",
              "      <td>-0.470682</td>\n",
              "      <td>-0.098422</td>\n",
              "      <td>1.446497</td>\n",
              "      <td>...</td>\n",
              "      <td>-0.804841</td>\n",
              "      <td>-1.316879</td>\n",
              "      <td>-0.174902</td>\n",
              "      <td>-0.054609</td>\n",
              "      <td>-0.009838</td>\n",
              "      <td>1.212103</td>\n",
              "      <td>0.255034</td>\n",
              "      <td>0.407127</td>\n",
              "      <td>-0.088884</td>\n",
              "      <td>1.372577</td>\n",
              "    </tr>\n",
              "    <tr>\n",
              "      <th>749</th>\n",
              "      <td>6</td>\n",
              "      <td>6</td>\n",
              "      <td>37</td>\n",
              "      <td>-1.611689</td>\n",
              "      <td>1.069066</td>\n",
              "      <td>-2.917229</td>\n",
              "      <td>-0.672164</td>\n",
              "      <td>-0.381038</td>\n",
              "      <td>-1.435102</td>\n",
              "      <td>0.020197</td>\n",
              "      <td>...</td>\n",
              "      <td>-0.888951</td>\n",
              "      <td>-0.291154</td>\n",
              "      <td>-0.583354</td>\n",
              "      <td>-0.794796</td>\n",
              "      <td>-1.124176</td>\n",
              "      <td>0.838788</td>\n",
              "      <td>0.252321</td>\n",
              "      <td>1.229161</td>\n",
              "      <td>0.568089</td>\n",
              "      <td>0.132520</td>\n",
              "    </tr>\n",
              "  </tbody>\n",
              "</table>\n",
              "<p>750 rows × 40 columns</p>\n",
              "</div>\n",
              "    <div class=\"colab-df-buttons\">\n",
              "\n",
              "  <div class=\"colab-df-container\">\n",
              "    <button class=\"colab-df-convert\" onclick=\"convertToInteractive('df-0f6dde80-e028-4ce3-9bad-13f825bf3ecb')\"\n",
              "            title=\"Convert this dataframe to an interactive table.\"\n",
              "            style=\"display:none;\">\n",
              "\n",
              "  <svg xmlns=\"http://www.w3.org/2000/svg\" height=\"24px\" viewBox=\"0 -960 960 960\">\n",
              "    <path d=\"M120-120v-720h720v720H120Zm60-500h600v-160H180v160Zm220 220h160v-160H400v160Zm0 220h160v-160H400v160ZM180-400h160v-160H180v160Zm440 0h160v-160H620v160ZM180-180h160v-160H180v160Zm440 0h160v-160H620v160Z\"/>\n",
              "  </svg>\n",
              "    </button>\n",
              "\n",
              "  <style>\n",
              "    .colab-df-container {\n",
              "      display:flex;\n",
              "      gap: 12px;\n",
              "    }\n",
              "\n",
              "    .colab-df-convert {\n",
              "      background-color: #E8F0FE;\n",
              "      border: none;\n",
              "      border-radius: 50%;\n",
              "      cursor: pointer;\n",
              "      display: none;\n",
              "      fill: #1967D2;\n",
              "      height: 32px;\n",
              "      padding: 0 0 0 0;\n",
              "      width: 32px;\n",
              "    }\n",
              "\n",
              "    .colab-df-convert:hover {\n",
              "      background-color: #E2EBFA;\n",
              "      box-shadow: 0px 1px 2px rgba(60, 64, 67, 0.3), 0px 1px 3px 1px rgba(60, 64, 67, 0.15);\n",
              "      fill: #174EA6;\n",
              "    }\n",
              "\n",
              "    .colab-df-buttons div {\n",
              "      margin-bottom: 4px;\n",
              "    }\n",
              "\n",
              "    [theme=dark] .colab-df-convert {\n",
              "      background-color: #3B4455;\n",
              "      fill: #D2E3FC;\n",
              "    }\n",
              "\n",
              "    [theme=dark] .colab-df-convert:hover {\n",
              "      background-color: #434B5C;\n",
              "      box-shadow: 0px 1px 3px 1px rgba(0, 0, 0, 0.15);\n",
              "      filter: drop-shadow(0px 1px 2px rgba(0, 0, 0, 0.3));\n",
              "      fill: #FFFFFF;\n",
              "    }\n",
              "  </style>\n",
              "\n",
              "    <script>\n",
              "      const buttonEl =\n",
              "        document.querySelector('#df-0f6dde80-e028-4ce3-9bad-13f825bf3ecb button.colab-df-convert');\n",
              "      buttonEl.style.display =\n",
              "        google.colab.kernel.accessAllowed ? 'block' : 'none';\n",
              "\n",
              "      async function convertToInteractive(key) {\n",
              "        const element = document.querySelector('#df-0f6dde80-e028-4ce3-9bad-13f825bf3ecb');\n",
              "        const dataTable =\n",
              "          await google.colab.kernel.invokeFunction('convertToInteractive',\n",
              "                                                    [key], {});\n",
              "        if (!dataTable) return;\n",
              "\n",
              "        const docLinkHtml = 'Like what you see? Visit the ' +\n",
              "          '<a target=\"_blank\" href=https://colab.research.google.com/notebooks/data_table.ipynb>data table notebook</a>'\n",
              "          + ' to learn more about interactive tables.';\n",
              "        element.innerHTML = '';\n",
              "        dataTable['output_type'] = 'display_data';\n",
              "        await google.colab.output.renderOutput(dataTable, element);\n",
              "        const docLink = document.createElement('div');\n",
              "        docLink.innerHTML = docLinkHtml;\n",
              "        element.appendChild(docLink);\n",
              "      }\n",
              "    </script>\n",
              "  </div>\n",
              "\n",
              "\n",
              "<div id=\"df-0fc1727b-9f65-483e-af65-c7ab79776d6d\">\n",
              "  <button class=\"colab-df-quickchart\" onclick=\"quickchart('df-0fc1727b-9f65-483e-af65-c7ab79776d6d')\"\n",
              "            title=\"Suggest charts.\"\n",
              "            style=\"display:none;\">\n",
              "\n",
              "<svg xmlns=\"http://www.w3.org/2000/svg\" height=\"24px\"viewBox=\"0 0 24 24\"\n",
              "     width=\"24px\">\n",
              "    <g>\n",
              "        <path d=\"M19 3H5c-1.1 0-2 .9-2 2v14c0 1.1.9 2 2 2h14c1.1 0 2-.9 2-2V5c0-1.1-.9-2-2-2zM9 17H7v-7h2v7zm4 0h-2V7h2v10zm4 0h-2v-4h2v4z\"/>\n",
              "    </g>\n",
              "</svg>\n",
              "  </button>\n",
              "\n",
              "<style>\n",
              "  .colab-df-quickchart {\n",
              "    background-color: #E8F0FE;\n",
              "    border: none;\n",
              "    border-radius: 50%;\n",
              "    cursor: pointer;\n",
              "    display: none;\n",
              "    fill: #1967D2;\n",
              "    height: 32px;\n",
              "    padding: 0 0 0 0;\n",
              "    width: 32px;\n",
              "  }\n",
              "\n",
              "  .colab-df-quickchart:hover {\n",
              "    background-color: #E2EBFA;\n",
              "    box-shadow: 0px 1px 2px rgba(60, 64, 67, 0.3), 0px 1px 3px 1px rgba(60, 64, 67, 0.15);\n",
              "    fill: #174EA6;\n",
              "  }\n",
              "\n",
              "  [theme=dark] .colab-df-quickchart {\n",
              "    background-color: #3B4455;\n",
              "    fill: #D2E3FC;\n",
              "  }\n",
              "\n",
              "  [theme=dark] .colab-df-quickchart:hover {\n",
              "    background-color: #434B5C;\n",
              "    box-shadow: 0px 1px 3px 1px rgba(0, 0, 0, 0.15);\n",
              "    filter: drop-shadow(0px 1px 2px rgba(0, 0, 0, 0.3));\n",
              "    fill: #FFFFFF;\n",
              "  }\n",
              "</style>\n",
              "\n",
              "  <script>\n",
              "    async function quickchart(key) {\n",
              "      const charts = await google.colab.kernel.invokeFunction(\n",
              "          'suggestCharts', [key], {});\n",
              "    }\n",
              "    (() => {\n",
              "      let quickchartButtonEl =\n",
              "        document.querySelector('#df-0fc1727b-9f65-483e-af65-c7ab79776d6d button');\n",
              "      quickchartButtonEl.style.display =\n",
              "        google.colab.kernel.accessAllowed ? 'block' : 'none';\n",
              "    })();\n",
              "  </script>\n",
              "</div>\n",
              "    </div>\n",
              "  </div>\n"
            ]
          },
          "metadata": {},
          "execution_count": 47
        }
      ]
    },
    {
      "cell_type": "code",
      "source": [
        "output_df.to_csv('/content/drive/MyDrive/Colab Notebooks/files/190377T_label_4.csv', index=False)"
      ],
      "metadata": {
        "id": "eFC21yDCZVGF"
      },
      "execution_count": null,
      "outputs": []
    }
  ]
}