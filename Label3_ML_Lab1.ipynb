{
  "cells": [
    {
      "cell_type": "code",
      "execution_count": null,
      "metadata": {
        "id": "TK2KaRo0Jbc8"
      },
      "outputs": [],
      "source": [
        "import pandas as pd\n",
        "import numpy as np\n",
        "\n",
        "labels = ['label_1', 'label_2', 'label_3', 'label_4']\n",
        "features = [f'feature_{i}' for i in range (1,257)]"
      ]
    },
    {
      "cell_type": "code",
      "execution_count": null,
      "metadata": {
        "colab": {
          "base_uri": "https://localhost:8080/"
        },
        "id": "xD5F6OArJpvp",
        "outputId": "5567a397-0571-480f-dd94-13492fceeec3"
      },
      "outputs": [
        {
          "data": {
            "text/plain": [
              "((28520, 260), (750, 260), (750, 260))"
            ]
          },
          "execution_count": 2,
          "metadata": {},
          "output_type": "execute_result"
        }
      ],
      "source": [
        "train_df = pd.read_csv('/content/drive/MyDrive/Colab Notebooks/files/train.csv')\n",
        "valid_df = pd.read_csv('/content/drive/MyDrive/Colab Notebooks/files/valid.csv')\n",
        "test_df = pd.read_csv('/content/drive/MyDrive/Colab Notebooks/files/test.csv')\n",
        "\n",
        "train_df.shape, valid_df.shape, test_df.shape"
      ]
    },
    {
      "cell_type": "code",
      "execution_count": null,
      "metadata": {
        "id": "UHag-THQ8pLT"
      },
      "outputs": [],
      "source": [
        "from sklearn.preprocessing import StandardScaler\n",
        "\n",
        "x_train = {}\n",
        "y_train = {}\n",
        "\n",
        "x_valid = {}\n",
        "y_valid = {}\n",
        "\n",
        "x_test = {}\n",
        "\n",
        "for label in labels:\n",
        "  tr_df = train_df[train_df['label_2'].notna()] if label == 'label_2' else train_df\n",
        "  vl_df = valid_df\n",
        "  tst_df = test_df\n",
        "\n",
        "  scaler = StandardScaler()\n",
        "  x_train[label] = pd.DataFrame(scaler.fit_transform(tr_df.drop(labels, axis = 1)), columns = features)\n",
        "  y_train[label] = tr_df[label]\n",
        "\n",
        "  x_valid[label] = pd.DataFrame(scaler.transform(vl_df.drop(labels, axis = 1)), columns = features)\n",
        "  y_valid[label] = vl_df[label]\n",
        "\n",
        "  x_test[label] = pd.DataFrame(scaler.transform(tst_df.drop(labels, axis = 1)), columns = features)\n"
      ]
    },
    {
      "cell_type": "code",
      "execution_count": null,
      "metadata": {
        "colab": {
          "base_uri": "https://localhost:8080/",
          "height": 74
        },
        "id": "ER7pbbNGUkjq",
        "outputId": "796a47bc-bc15-4172-e2fc-fceba12f02e4"
      },
      "outputs": [
        {
          "data": {
            "text/html": [
              "<style>#sk-container-id-1 {color: black;background-color: white;}#sk-container-id-1 pre{padding: 0;}#sk-container-id-1 div.sk-toggleable {background-color: white;}#sk-container-id-1 label.sk-toggleable__label {cursor: pointer;display: block;width: 100%;margin-bottom: 0;padding: 0.3em;box-sizing: border-box;text-align: center;}#sk-container-id-1 label.sk-toggleable__label-arrow:before {content: \"▸\";float: left;margin-right: 0.25em;color: #696969;}#sk-container-id-1 label.sk-toggleable__label-arrow:hover:before {color: black;}#sk-container-id-1 div.sk-estimator:hover label.sk-toggleable__label-arrow:before {color: black;}#sk-container-id-1 div.sk-toggleable__content {max-height: 0;max-width: 0;overflow: hidden;text-align: left;background-color: #f0f8ff;}#sk-container-id-1 div.sk-toggleable__content pre {margin: 0.2em;color: black;border-radius: 0.25em;background-color: #f0f8ff;}#sk-container-id-1 input.sk-toggleable__control:checked~div.sk-toggleable__content {max-height: 200px;max-width: 100%;overflow: auto;}#sk-container-id-1 input.sk-toggleable__control:checked~label.sk-toggleable__label-arrow:before {content: \"▾\";}#sk-container-id-1 div.sk-estimator input.sk-toggleable__control:checked~label.sk-toggleable__label {background-color: #d4ebff;}#sk-container-id-1 div.sk-label input.sk-toggleable__control:checked~label.sk-toggleable__label {background-color: #d4ebff;}#sk-container-id-1 input.sk-hidden--visually {border: 0;clip: rect(1px 1px 1px 1px);clip: rect(1px, 1px, 1px, 1px);height: 1px;margin: -1px;overflow: hidden;padding: 0;position: absolute;width: 1px;}#sk-container-id-1 div.sk-estimator {font-family: monospace;background-color: #f0f8ff;border: 1px dotted black;border-radius: 0.25em;box-sizing: border-box;margin-bottom: 0.5em;}#sk-container-id-1 div.sk-estimator:hover {background-color: #d4ebff;}#sk-container-id-1 div.sk-parallel-item::after {content: \"\";width: 100%;border-bottom: 1px solid gray;flex-grow: 1;}#sk-container-id-1 div.sk-label:hover label.sk-toggleable__label {background-color: #d4ebff;}#sk-container-id-1 div.sk-serial::before {content: \"\";position: absolute;border-left: 1px solid gray;box-sizing: border-box;top: 0;bottom: 0;left: 50%;z-index: 0;}#sk-container-id-1 div.sk-serial {display: flex;flex-direction: column;align-items: center;background-color: white;padding-right: 0.2em;padding-left: 0.2em;position: relative;}#sk-container-id-1 div.sk-item {position: relative;z-index: 1;}#sk-container-id-1 div.sk-parallel {display: flex;align-items: stretch;justify-content: center;background-color: white;position: relative;}#sk-container-id-1 div.sk-item::before, #sk-container-id-1 div.sk-parallel-item::before {content: \"\";position: absolute;border-left: 1px solid gray;box-sizing: border-box;top: 0;bottom: 0;left: 50%;z-index: -1;}#sk-container-id-1 div.sk-parallel-item {display: flex;flex-direction: column;z-index: 1;position: relative;background-color: white;}#sk-container-id-1 div.sk-parallel-item:first-child::after {align-self: flex-end;width: 50%;}#sk-container-id-1 div.sk-parallel-item:last-child::after {align-self: flex-start;width: 50%;}#sk-container-id-1 div.sk-parallel-item:only-child::after {width: 0;}#sk-container-id-1 div.sk-dashed-wrapped {border: 1px dashed gray;margin: 0 0.4em 0.5em 0.4em;box-sizing: border-box;padding-bottom: 0.4em;background-color: white;}#sk-container-id-1 div.sk-label label {font-family: monospace;font-weight: bold;display: inline-block;line-height: 1.2em;}#sk-container-id-1 div.sk-label-container {text-align: center;}#sk-container-id-1 div.sk-container {/* jupyter's `normalize.less` sets `[hidden] { display: none; }` but bootstrap.min.css set `[hidden] { display: none !important; }` so we also need the `!important` here to be able to override the default hidden behavior on the sphinx rendered scikit-learn.org. See: https://github.com/scikit-learn/scikit-learn/issues/21755 */display: inline-block !important;position: relative;}#sk-container-id-1 div.sk-text-repr-fallback {display: none;}</style><div id=\"sk-container-id-1\" class=\"sk-top-container\"><div class=\"sk-text-repr-fallback\"><pre>SVC(kernel=&#x27;linear&#x27;)</pre><b>In a Jupyter environment, please rerun this cell to show the HTML representation or trust the notebook. <br />On GitHub, the HTML representation is unable to render, please try loading this page with nbviewer.org.</b></div><div class=\"sk-container\" hidden><div class=\"sk-item\"><div class=\"sk-estimator sk-toggleable\"><input class=\"sk-toggleable__control sk-hidden--visually\" id=\"sk-estimator-id-1\" type=\"checkbox\" checked><label for=\"sk-estimator-id-1\" class=\"sk-toggleable__label sk-toggleable__label-arrow\">SVC</label><div class=\"sk-toggleable__content\"><pre>SVC(kernel=&#x27;linear&#x27;)</pre></div></div></div></div></div>"
            ],
            "text/plain": [
              "SVC(kernel='linear')"
            ]
          },
          "execution_count": 4,
          "metadata": {},
          "output_type": "execute_result"
        }
      ],
      "source": [
        "from sklearn import svm\n",
        "\n",
        "clf = svm.SVC(kernel= 'linear')\n",
        "clf.fit(x_train['label_3'], y_train['label_3'])"
      ]
    },
    {
      "cell_type": "code",
      "execution_count": null,
      "metadata": {
        "id": "ZufEHgbkMSTD"
      },
      "outputs": [],
      "source": [
        "y_pred = clf.predict(x_valid['label_3'])"
      ]
    },
    {
      "cell_type": "code",
      "execution_count": null,
      "metadata": {
        "id": "J5nK9r8mMWrE"
      },
      "outputs": [],
      "source": [
        "y_pred_test_before = clf.predict(x_test['label_3'])"
      ]
    },
    {
      "cell_type": "code",
      "execution_count": null,
      "metadata": {
        "colab": {
          "base_uri": "https://localhost:8080/"
        },
        "id": "IzmnXGIoMZ6W",
        "outputId": "5ef89c48-2c07-4463-ad4d-fbbe09a9f30d"
      },
      "outputs": [
        {
          "name": "stdout",
          "output_type": "stream",
          "text": [
            "[[142   0]\n",
            " [  1 607]]\n",
            "0.9986666666666667\n",
            "1.0\n",
            "0.9983552631578947\n"
          ]
        }
      ],
      "source": [
        "from sklearn import metrics\n",
        "\n",
        "print(metrics.confusion_matrix(y_valid['label_3'], y_pred))\n",
        "print(metrics.accuracy_score(y_valid['label_3'], y_pred))\n",
        "print(metrics.precision_score(y_valid['label_3'], y_pred))\n",
        "print(metrics.recall_score(y_valid['label_3'], y_pred))"
      ]
    },
    {
      "cell_type": "code",
      "execution_count": null,
      "metadata": {
        "colab": {
          "base_uri": "https://localhost:8080/"
        },
        "id": "z9rjNl5oMjln",
        "outputId": "82f4197e-aafe-4435-c5c2-21c1ef08287a"
      },
      "outputs": [
        {
          "name": "stdout",
          "output_type": "stream",
          "text": [
            "(28520, 15)\n",
            "(750, 15)\n",
            "(750, 15)\n"
          ]
        }
      ],
      "source": [
        "from sklearn.feature_selection import SelectKBest, f_classif\n",
        "\n",
        "selector = SelectKBest(f_classif, k=15)\n",
        "x_train_kBest = selector.fit_transform(x_train['label_3'], y_train['label_3'])\n",
        "x_valid_kBest = selector.transform(x_valid['label_3'])\n",
        "x_test_kBest = selector.transform(x_test['label_3'])\n",
        "print (x_train_kBest.shape)\n",
        "print (x_valid_kBest.shape)\n",
        "print (x_test_kBest.shape)"
      ]
    },
    {
      "cell_type": "code",
      "execution_count": null,
      "metadata": {
        "colab": {
          "base_uri": "https://localhost:8080/",
          "height": 74
        },
        "id": "wEUh3QgGMq3I",
        "outputId": "b6c91838-315c-428d-c6f1-326d28208396"
      },
      "outputs": [
        {
          "data": {
            "text/html": [
              "<style>#sk-container-id-2 {color: black;background-color: white;}#sk-container-id-2 pre{padding: 0;}#sk-container-id-2 div.sk-toggleable {background-color: white;}#sk-container-id-2 label.sk-toggleable__label {cursor: pointer;display: block;width: 100%;margin-bottom: 0;padding: 0.3em;box-sizing: border-box;text-align: center;}#sk-container-id-2 label.sk-toggleable__label-arrow:before {content: \"▸\";float: left;margin-right: 0.25em;color: #696969;}#sk-container-id-2 label.sk-toggleable__label-arrow:hover:before {color: black;}#sk-container-id-2 div.sk-estimator:hover label.sk-toggleable__label-arrow:before {color: black;}#sk-container-id-2 div.sk-toggleable__content {max-height: 0;max-width: 0;overflow: hidden;text-align: left;background-color: #f0f8ff;}#sk-container-id-2 div.sk-toggleable__content pre {margin: 0.2em;color: black;border-radius: 0.25em;background-color: #f0f8ff;}#sk-container-id-2 input.sk-toggleable__control:checked~div.sk-toggleable__content {max-height: 200px;max-width: 100%;overflow: auto;}#sk-container-id-2 input.sk-toggleable__control:checked~label.sk-toggleable__label-arrow:before {content: \"▾\";}#sk-container-id-2 div.sk-estimator input.sk-toggleable__control:checked~label.sk-toggleable__label {background-color: #d4ebff;}#sk-container-id-2 div.sk-label input.sk-toggleable__control:checked~label.sk-toggleable__label {background-color: #d4ebff;}#sk-container-id-2 input.sk-hidden--visually {border: 0;clip: rect(1px 1px 1px 1px);clip: rect(1px, 1px, 1px, 1px);height: 1px;margin: -1px;overflow: hidden;padding: 0;position: absolute;width: 1px;}#sk-container-id-2 div.sk-estimator {font-family: monospace;background-color: #f0f8ff;border: 1px dotted black;border-radius: 0.25em;box-sizing: border-box;margin-bottom: 0.5em;}#sk-container-id-2 div.sk-estimator:hover {background-color: #d4ebff;}#sk-container-id-2 div.sk-parallel-item::after {content: \"\";width: 100%;border-bottom: 1px solid gray;flex-grow: 1;}#sk-container-id-2 div.sk-label:hover label.sk-toggleable__label {background-color: #d4ebff;}#sk-container-id-2 div.sk-serial::before {content: \"\";position: absolute;border-left: 1px solid gray;box-sizing: border-box;top: 0;bottom: 0;left: 50%;z-index: 0;}#sk-container-id-2 div.sk-serial {display: flex;flex-direction: column;align-items: center;background-color: white;padding-right: 0.2em;padding-left: 0.2em;position: relative;}#sk-container-id-2 div.sk-item {position: relative;z-index: 1;}#sk-container-id-2 div.sk-parallel {display: flex;align-items: stretch;justify-content: center;background-color: white;position: relative;}#sk-container-id-2 div.sk-item::before, #sk-container-id-2 div.sk-parallel-item::before {content: \"\";position: absolute;border-left: 1px solid gray;box-sizing: border-box;top: 0;bottom: 0;left: 50%;z-index: -1;}#sk-container-id-2 div.sk-parallel-item {display: flex;flex-direction: column;z-index: 1;position: relative;background-color: white;}#sk-container-id-2 div.sk-parallel-item:first-child::after {align-self: flex-end;width: 50%;}#sk-container-id-2 div.sk-parallel-item:last-child::after {align-self: flex-start;width: 50%;}#sk-container-id-2 div.sk-parallel-item:only-child::after {width: 0;}#sk-container-id-2 div.sk-dashed-wrapped {border: 1px dashed gray;margin: 0 0.4em 0.5em 0.4em;box-sizing: border-box;padding-bottom: 0.4em;background-color: white;}#sk-container-id-2 div.sk-label label {font-family: monospace;font-weight: bold;display: inline-block;line-height: 1.2em;}#sk-container-id-2 div.sk-label-container {text-align: center;}#sk-container-id-2 div.sk-container {/* jupyter's `normalize.less` sets `[hidden] { display: none; }` but bootstrap.min.css set `[hidden] { display: none !important; }` so we also need the `!important` here to be able to override the default hidden behavior on the sphinx rendered scikit-learn.org. See: https://github.com/scikit-learn/scikit-learn/issues/21755 */display: inline-block !important;position: relative;}#sk-container-id-2 div.sk-text-repr-fallback {display: none;}</style><div id=\"sk-container-id-2\" class=\"sk-top-container\"><div class=\"sk-text-repr-fallback\"><pre>SVC(kernel=&#x27;linear&#x27;)</pre><b>In a Jupyter environment, please rerun this cell to show the HTML representation or trust the notebook. <br />On GitHub, the HTML representation is unable to render, please try loading this page with nbviewer.org.</b></div><div class=\"sk-container\" hidden><div class=\"sk-item\"><div class=\"sk-estimator sk-toggleable\"><input class=\"sk-toggleable__control sk-hidden--visually\" id=\"sk-estimator-id-2\" type=\"checkbox\" checked><label for=\"sk-estimator-id-2\" class=\"sk-toggleable__label sk-toggleable__label-arrow\">SVC</label><div class=\"sk-toggleable__content\"><pre>SVC(kernel=&#x27;linear&#x27;)</pre></div></div></div></div></div>"
            ],
            "text/plain": [
              "SVC(kernel='linear')"
            ]
          },
          "execution_count": 9,
          "metadata": {},
          "output_type": "execute_result"
        }
      ],
      "source": [
        "clf = svm.SVC(kernel= 'linear')\n",
        "clf.fit(x_train_kBest, y_train['label_3'])"
      ]
    },
    {
      "cell_type": "code",
      "execution_count": null,
      "metadata": {
        "colab": {
          "base_uri": "https://localhost:8080/"
        },
        "id": "7o7MNzAWMwiE",
        "outputId": "2ac2bcfc-c898-4c6c-8948-647f3752aca6"
      },
      "outputs": [
        {
          "name": "stdout",
          "output_type": "stream",
          "text": [
            "[[137   5]\n",
            " [  7 601]]\n",
            "0.984\n",
            "0.9917491749174917\n",
            "0.9884868421052632\n"
          ]
        }
      ],
      "source": [
        "y_pred = clf.predict(x_valid_kBest)\n",
        "y_pred_test = clf.predict(x_test_kBest)\n",
        "print(metrics.confusion_matrix(y_valid['label_3'], y_pred))\n",
        "print(metrics.accuracy_score(y_valid['label_3'], y_pred))\n",
        "print(metrics.precision_score(y_valid['label_3'], y_pred))\n",
        "print(metrics.recall_score(y_valid['label_3'], y_pred))"
      ]
    },
    {
      "cell_type": "code",
      "execution_count": null,
      "metadata": {
        "colab": {
          "base_uri": "https://localhost:8080/"
        },
        "id": "aCKOxHhlM3TK",
        "outputId": "119f465b-ccc9-45de-e96a-487ef0bb2404"
      },
      "outputs": [
        {
          "name": "stdout",
          "output_type": "stream",
          "text": [
            "(28520, 12)\n",
            "(750, 12)\n",
            "(750, 12)\n"
          ]
        }
      ],
      "source": [
        "from sklearn.decomposition import PCA\n",
        "\n",
        "pca = PCA(n_components= 0.95, svd_solver='full')\n",
        "pca.fit(x_train_kBest)\n",
        "x_train_trf = pd.DataFrame(pca.transform(x_train_kBest))\n",
        "x_valid_trf = pd.DataFrame(pca.transform(x_valid_kBest))\n",
        "x_test_trf = pd.DataFrame(pca.transform(x_test_kBest))\n",
        "print(x_train_trf.shape)\n",
        "print(x_valid_trf.shape)\n",
        "print(x_test_trf.shape)"
      ]
    },
    {
      "cell_type": "code",
      "execution_count": null,
      "metadata": {
        "colab": {
          "base_uri": "https://localhost:8080/"
        },
        "id": "FP2GsG_AM70L",
        "outputId": "d42cd506-95f6-4fd7-9b50-8c5b0edf3805"
      },
      "outputs": [
        {
          "name": "stdout",
          "output_type": "stream",
          "text": [
            "[[137   5]\n",
            " [  8 600]]\n",
            "0.9826666666666667\n",
            "0.9917355371900827\n",
            "0.9868421052631579\n"
          ]
        }
      ],
      "source": [
        "clf = svm.SVC(kernel= 'linear')\n",
        "clf.fit(x_train_trf, y_train['label_3'])\n",
        "\n",
        "y_pred = clf.predict(x_valid_trf)\n",
        "y_pred_test_after = clf.predict(x_test_trf)\n",
        "print(metrics.confusion_matrix(y_valid['label_3'], y_pred))\n",
        "print(metrics.accuracy_score(y_valid['label_3'], y_pred))\n",
        "print(metrics.precision_score(y_valid['label_3'], y_pred))\n",
        "print(metrics.recall_score(y_valid['label_3'], y_pred))"
      ]
    },
    {
      "cell_type": "code",
      "execution_count": null,
      "metadata": {
        "colab": {
          "base_uri": "https://localhost:8080/"
        },
        "id": "x7I2BlfTNF1u",
        "outputId": "c9cdc038-2bd5-4ac2-9302-4ea4f6df1354"
      },
      "outputs": [
        {
          "name": "stdout",
          "output_type": "stream",
          "text": [
            "12\n"
          ]
        }
      ],
      "source": [
        "num_new_features = x_test_trf.shape[1]\n",
        "print(num_new_features)"
      ]
    },
    {
      "cell_type": "code",
      "execution_count": null,
      "metadata": {
        "colab": {
          "base_uri": "https://localhost:8080/",
          "height": 513
        },
        "id": "2KUd6kcCNIBr",
        "outputId": "28adffab-7253-4fe9-bdc2-37771090a803"
      },
      "outputs": [
        {
          "data": {
            "text/html": [
              "\n",
              "  <div id=\"df-f6f6d0d8-db8a-4231-a5ff-61976bfa8028\" class=\"colab-df-container\">\n",
              "    <div>\n",
              "<style scoped>\n",
              "    .dataframe tbody tr th:only-of-type {\n",
              "        vertical-align: middle;\n",
              "    }\n",
              "\n",
              "    .dataframe tbody tr th {\n",
              "        vertical-align: top;\n",
              "    }\n",
              "\n",
              "    .dataframe thead th {\n",
              "        text-align: right;\n",
              "    }\n",
              "</style>\n",
              "<table border=\"1\" class=\"dataframe\">\n",
              "  <thead>\n",
              "    <tr style=\"text-align: right;\">\n",
              "      <th></th>\n",
              "      <th>Predicted labels before feature engineering</th>\n",
              "      <th>Predicted labels after feature engineering</th>\n",
              "      <th>No. of new features</th>\n",
              "      <th>new feature 1</th>\n",
              "      <th>new feature 2</th>\n",
              "      <th>new feature 3</th>\n",
              "      <th>new feature 4</th>\n",
              "      <th>new feature 5</th>\n",
              "      <th>new feature 6</th>\n",
              "      <th>new feature 7</th>\n",
              "      <th>new feature 8</th>\n",
              "      <th>new feature 9</th>\n",
              "      <th>new feature 10</th>\n",
              "      <th>new feature 11</th>\n",
              "      <th>new feature 12</th>\n",
              "    </tr>\n",
              "  </thead>\n",
              "  <tbody>\n",
              "    <tr>\n",
              "      <th>0</th>\n",
              "      <td>1</td>\n",
              "      <td>1</td>\n",
              "      <td>12</td>\n",
              "      <td>-1.560401</td>\n",
              "      <td>0.547585</td>\n",
              "      <td>0.613460</td>\n",
              "      <td>0.488944</td>\n",
              "      <td>0.233534</td>\n",
              "      <td>-0.595970</td>\n",
              "      <td>-1.346150</td>\n",
              "      <td>0.241082</td>\n",
              "      <td>-0.362530</td>\n",
              "      <td>-0.266361</td>\n",
              "      <td>0.589218</td>\n",
              "      <td>-0.842507</td>\n",
              "    </tr>\n",
              "    <tr>\n",
              "      <th>1</th>\n",
              "      <td>1</td>\n",
              "      <td>1</td>\n",
              "      <td>12</td>\n",
              "      <td>-2.143333</td>\n",
              "      <td>0.825362</td>\n",
              "      <td>0.818877</td>\n",
              "      <td>1.007486</td>\n",
              "      <td>-0.521076</td>\n",
              "      <td>-0.882749</td>\n",
              "      <td>-1.472594</td>\n",
              "      <td>-0.885638</td>\n",
              "      <td>0.275080</td>\n",
              "      <td>-0.507292</td>\n",
              "      <td>-0.119707</td>\n",
              "      <td>-0.661068</td>\n",
              "    </tr>\n",
              "    <tr>\n",
              "      <th>2</th>\n",
              "      <td>1</td>\n",
              "      <td>1</td>\n",
              "      <td>12</td>\n",
              "      <td>-3.575549</td>\n",
              "      <td>0.320855</td>\n",
              "      <td>-0.381191</td>\n",
              "      <td>-0.512013</td>\n",
              "      <td>0.594970</td>\n",
              "      <td>-0.054969</td>\n",
              "      <td>-1.969873</td>\n",
              "      <td>0.420373</td>\n",
              "      <td>-0.889453</td>\n",
              "      <td>0.243310</td>\n",
              "      <td>-0.107887</td>\n",
              "      <td>-0.089135</td>\n",
              "    </tr>\n",
              "    <tr>\n",
              "      <th>3</th>\n",
              "      <td>1</td>\n",
              "      <td>1</td>\n",
              "      <td>12</td>\n",
              "      <td>-2.634428</td>\n",
              "      <td>-0.830557</td>\n",
              "      <td>1.080932</td>\n",
              "      <td>0.930836</td>\n",
              "      <td>0.641772</td>\n",
              "      <td>0.400238</td>\n",
              "      <td>-0.947103</td>\n",
              "      <td>0.453250</td>\n",
              "      <td>0.135590</td>\n",
              "      <td>-0.550631</td>\n",
              "      <td>0.315002</td>\n",
              "      <td>0.261183</td>\n",
              "    </tr>\n",
              "    <tr>\n",
              "      <th>4</th>\n",
              "      <td>1</td>\n",
              "      <td>1</td>\n",
              "      <td>12</td>\n",
              "      <td>-3.865250</td>\n",
              "      <td>-0.991637</td>\n",
              "      <td>1.061084</td>\n",
              "      <td>0.450643</td>\n",
              "      <td>-0.025507</td>\n",
              "      <td>-1.421258</td>\n",
              "      <td>-0.290875</td>\n",
              "      <td>0.872319</td>\n",
              "      <td>-1.385020</td>\n",
              "      <td>-0.298720</td>\n",
              "      <td>0.012161</td>\n",
              "      <td>-0.168566</td>\n",
              "    </tr>\n",
              "    <tr>\n",
              "      <th>...</th>\n",
              "      <td>...</td>\n",
              "      <td>...</td>\n",
              "      <td>...</td>\n",
              "      <td>...</td>\n",
              "      <td>...</td>\n",
              "      <td>...</td>\n",
              "      <td>...</td>\n",
              "      <td>...</td>\n",
              "      <td>...</td>\n",
              "      <td>...</td>\n",
              "      <td>...</td>\n",
              "      <td>...</td>\n",
              "      <td>...</td>\n",
              "      <td>...</td>\n",
              "      <td>...</td>\n",
              "    </tr>\n",
              "    <tr>\n",
              "      <th>745</th>\n",
              "      <td>1</td>\n",
              "      <td>1</td>\n",
              "      <td>12</td>\n",
              "      <td>-0.968818</td>\n",
              "      <td>-0.900845</td>\n",
              "      <td>-0.323168</td>\n",
              "      <td>0.289818</td>\n",
              "      <td>0.042629</td>\n",
              "      <td>-0.385851</td>\n",
              "      <td>0.261177</td>\n",
              "      <td>0.180923</td>\n",
              "      <td>-0.580402</td>\n",
              "      <td>-0.488867</td>\n",
              "      <td>0.741220</td>\n",
              "      <td>-0.295386</td>\n",
              "    </tr>\n",
              "    <tr>\n",
              "      <th>746</th>\n",
              "      <td>1</td>\n",
              "      <td>1</td>\n",
              "      <td>12</td>\n",
              "      <td>-1.661320</td>\n",
              "      <td>-0.106156</td>\n",
              "      <td>-0.635330</td>\n",
              "      <td>-1.335061</td>\n",
              "      <td>0.560128</td>\n",
              "      <td>0.510406</td>\n",
              "      <td>0.485416</td>\n",
              "      <td>-1.015275</td>\n",
              "      <td>-0.553690</td>\n",
              "      <td>-0.783628</td>\n",
              "      <td>-0.227181</td>\n",
              "      <td>-0.843730</td>\n",
              "    </tr>\n",
              "    <tr>\n",
              "      <th>747</th>\n",
              "      <td>1</td>\n",
              "      <td>1</td>\n",
              "      <td>12</td>\n",
              "      <td>-1.045689</td>\n",
              "      <td>-0.918966</td>\n",
              "      <td>-2.093063</td>\n",
              "      <td>-1.008008</td>\n",
              "      <td>1.185267</td>\n",
              "      <td>0.134043</td>\n",
              "      <td>-0.013664</td>\n",
              "      <td>-0.131177</td>\n",
              "      <td>0.153730</td>\n",
              "      <td>-0.312214</td>\n",
              "      <td>0.293061</td>\n",
              "      <td>0.508886</td>\n",
              "    </tr>\n",
              "    <tr>\n",
              "      <th>748</th>\n",
              "      <td>1</td>\n",
              "      <td>1</td>\n",
              "      <td>12</td>\n",
              "      <td>-2.592318</td>\n",
              "      <td>-1.767958</td>\n",
              "      <td>0.917525</td>\n",
              "      <td>-1.123659</td>\n",
              "      <td>-0.010075</td>\n",
              "      <td>0.499242</td>\n",
              "      <td>0.750225</td>\n",
              "      <td>0.169183</td>\n",
              "      <td>-0.675073</td>\n",
              "      <td>0.380341</td>\n",
              "      <td>0.689389</td>\n",
              "      <td>0.827870</td>\n",
              "    </tr>\n",
              "    <tr>\n",
              "      <th>749</th>\n",
              "      <td>1</td>\n",
              "      <td>1</td>\n",
              "      <td>12</td>\n",
              "      <td>-0.185969</td>\n",
              "      <td>0.388904</td>\n",
              "      <td>-0.443265</td>\n",
              "      <td>-2.517901</td>\n",
              "      <td>0.153298</td>\n",
              "      <td>-0.031606</td>\n",
              "      <td>0.006506</td>\n",
              "      <td>0.303281</td>\n",
              "      <td>0.891364</td>\n",
              "      <td>0.413036</td>\n",
              "      <td>-0.403820</td>\n",
              "      <td>0.504600</td>\n",
              "    </tr>\n",
              "  </tbody>\n",
              "</table>\n",
              "<p>750 rows × 15 columns</p>\n",
              "</div>\n",
              "    <div class=\"colab-df-buttons\">\n",
              "\n",
              "  <div class=\"colab-df-container\">\n",
              "    <button class=\"colab-df-convert\" onclick=\"convertToInteractive('df-f6f6d0d8-db8a-4231-a5ff-61976bfa8028')\"\n",
              "            title=\"Convert this dataframe to an interactive table.\"\n",
              "            style=\"display:none;\">\n",
              "\n",
              "  <svg xmlns=\"http://www.w3.org/2000/svg\" height=\"24px\" viewBox=\"0 -960 960 960\">\n",
              "    <path d=\"M120-120v-720h720v720H120Zm60-500h600v-160H180v160Zm220 220h160v-160H400v160Zm0 220h160v-160H400v160ZM180-400h160v-160H180v160Zm440 0h160v-160H620v160ZM180-180h160v-160H180v160Zm440 0h160v-160H620v160Z\"/>\n",
              "  </svg>\n",
              "    </button>\n",
              "\n",
              "  <style>\n",
              "    .colab-df-container {\n",
              "      display:flex;\n",
              "      gap: 12px;\n",
              "    }\n",
              "\n",
              "    .colab-df-convert {\n",
              "      background-color: #E8F0FE;\n",
              "      border: none;\n",
              "      border-radius: 50%;\n",
              "      cursor: pointer;\n",
              "      display: none;\n",
              "      fill: #1967D2;\n",
              "      height: 32px;\n",
              "      padding: 0 0 0 0;\n",
              "      width: 32px;\n",
              "    }\n",
              "\n",
              "    .colab-df-convert:hover {\n",
              "      background-color: #E2EBFA;\n",
              "      box-shadow: 0px 1px 2px rgba(60, 64, 67, 0.3), 0px 1px 3px 1px rgba(60, 64, 67, 0.15);\n",
              "      fill: #174EA6;\n",
              "    }\n",
              "\n",
              "    .colab-df-buttons div {\n",
              "      margin-bottom: 4px;\n",
              "    }\n",
              "\n",
              "    [theme=dark] .colab-df-convert {\n",
              "      background-color: #3B4455;\n",
              "      fill: #D2E3FC;\n",
              "    }\n",
              "\n",
              "    [theme=dark] .colab-df-convert:hover {\n",
              "      background-color: #434B5C;\n",
              "      box-shadow: 0px 1px 3px 1px rgba(0, 0, 0, 0.15);\n",
              "      filter: drop-shadow(0px 1px 2px rgba(0, 0, 0, 0.3));\n",
              "      fill: #FFFFFF;\n",
              "    }\n",
              "  </style>\n",
              "\n",
              "    <script>\n",
              "      const buttonEl =\n",
              "        document.querySelector('#df-f6f6d0d8-db8a-4231-a5ff-61976bfa8028 button.colab-df-convert');\n",
              "      buttonEl.style.display =\n",
              "        google.colab.kernel.accessAllowed ? 'block' : 'none';\n",
              "\n",
              "      async function convertToInteractive(key) {\n",
              "        const element = document.querySelector('#df-f6f6d0d8-db8a-4231-a5ff-61976bfa8028');\n",
              "        const dataTable =\n",
              "          await google.colab.kernel.invokeFunction('convertToInteractive',\n",
              "                                                    [key], {});\n",
              "        if (!dataTable) return;\n",
              "\n",
              "        const docLinkHtml = 'Like what you see? Visit the ' +\n",
              "          '<a target=\"_blank\" href=https://colab.research.google.com/notebooks/data_table.ipynb>data table notebook</a>'\n",
              "          + ' to learn more about interactive tables.';\n",
              "        element.innerHTML = '';\n",
              "        dataTable['output_type'] = 'display_data';\n",
              "        await google.colab.output.renderOutput(dataTable, element);\n",
              "        const docLink = document.createElement('div');\n",
              "        docLink.innerHTML = docLinkHtml;\n",
              "        element.appendChild(docLink);\n",
              "      }\n",
              "    </script>\n",
              "  </div>\n",
              "\n",
              "\n",
              "<div id=\"df-c27b9f42-412f-49b1-a15a-3d7c00383542\">\n",
              "  <button class=\"colab-df-quickchart\" onclick=\"quickchart('df-c27b9f42-412f-49b1-a15a-3d7c00383542')\"\n",
              "            title=\"Suggest charts.\"\n",
              "            style=\"display:none;\">\n",
              "\n",
              "<svg xmlns=\"http://www.w3.org/2000/svg\" height=\"24px\"viewBox=\"0 0 24 24\"\n",
              "     width=\"24px\">\n",
              "    <g>\n",
              "        <path d=\"M19 3H5c-1.1 0-2 .9-2 2v14c0 1.1.9 2 2 2h14c1.1 0 2-.9 2-2V5c0-1.1-.9-2-2-2zM9 17H7v-7h2v7zm4 0h-2V7h2v10zm4 0h-2v-4h2v4z\"/>\n",
              "    </g>\n",
              "</svg>\n",
              "  </button>\n",
              "\n",
              "<style>\n",
              "  .colab-df-quickchart {\n",
              "    background-color: #E8F0FE;\n",
              "    border: none;\n",
              "    border-radius: 50%;\n",
              "    cursor: pointer;\n",
              "    display: none;\n",
              "    fill: #1967D2;\n",
              "    height: 32px;\n",
              "    padding: 0 0 0 0;\n",
              "    width: 32px;\n",
              "  }\n",
              "\n",
              "  .colab-df-quickchart:hover {\n",
              "    background-color: #E2EBFA;\n",
              "    box-shadow: 0px 1px 2px rgba(60, 64, 67, 0.3), 0px 1px 3px 1px rgba(60, 64, 67, 0.15);\n",
              "    fill: #174EA6;\n",
              "  }\n",
              "\n",
              "  [theme=dark] .colab-df-quickchart {\n",
              "    background-color: #3B4455;\n",
              "    fill: #D2E3FC;\n",
              "  }\n",
              "\n",
              "  [theme=dark] .colab-df-quickchart:hover {\n",
              "    background-color: #434B5C;\n",
              "    box-shadow: 0px 1px 3px 1px rgba(0, 0, 0, 0.15);\n",
              "    filter: drop-shadow(0px 1px 2px rgba(0, 0, 0, 0.3));\n",
              "    fill: #FFFFFF;\n",
              "  }\n",
              "</style>\n",
              "\n",
              "  <script>\n",
              "    async function quickchart(key) {\n",
              "      const charts = await google.colab.kernel.invokeFunction(\n",
              "          'suggestCharts', [key], {});\n",
              "    }\n",
              "    (() => {\n",
              "      let quickchartButtonEl =\n",
              "        document.querySelector('#df-c27b9f42-412f-49b1-a15a-3d7c00383542 button');\n",
              "      quickchartButtonEl.style.display =\n",
              "        google.colab.kernel.accessAllowed ? 'block' : 'none';\n",
              "    })();\n",
              "  </script>\n",
              "</div>\n",
              "    </div>\n",
              "  </div>\n"
            ],
            "text/plain": [
              "     Predicted labels before feature engineering  \\\n",
              "0                                              1   \n",
              "1                                              1   \n",
              "2                                              1   \n",
              "3                                              1   \n",
              "4                                              1   \n",
              "..                                           ...   \n",
              "745                                            1   \n",
              "746                                            1   \n",
              "747                                            1   \n",
              "748                                            1   \n",
              "749                                            1   \n",
              "\n",
              "     Predicted labels after feature engineering  No. of new features  \\\n",
              "0                                             1                   12   \n",
              "1                                             1                   12   \n",
              "2                                             1                   12   \n",
              "3                                             1                   12   \n",
              "4                                             1                   12   \n",
              "..                                          ...                  ...   \n",
              "745                                           1                   12   \n",
              "746                                           1                   12   \n",
              "747                                           1                   12   \n",
              "748                                           1                   12   \n",
              "749                                           1                   12   \n",
              "\n",
              "     new feature 1  new feature 2  new feature 3  new feature 4  \\\n",
              "0        -1.560401       0.547585       0.613460       0.488944   \n",
              "1        -2.143333       0.825362       0.818877       1.007486   \n",
              "2        -3.575549       0.320855      -0.381191      -0.512013   \n",
              "3        -2.634428      -0.830557       1.080932       0.930836   \n",
              "4        -3.865250      -0.991637       1.061084       0.450643   \n",
              "..             ...            ...            ...            ...   \n",
              "745      -0.968818      -0.900845      -0.323168       0.289818   \n",
              "746      -1.661320      -0.106156      -0.635330      -1.335061   \n",
              "747      -1.045689      -0.918966      -2.093063      -1.008008   \n",
              "748      -2.592318      -1.767958       0.917525      -1.123659   \n",
              "749      -0.185969       0.388904      -0.443265      -2.517901   \n",
              "\n",
              "     new feature 5  new feature 6  new feature 7  new feature 8  \\\n",
              "0         0.233534      -0.595970      -1.346150       0.241082   \n",
              "1        -0.521076      -0.882749      -1.472594      -0.885638   \n",
              "2         0.594970      -0.054969      -1.969873       0.420373   \n",
              "3         0.641772       0.400238      -0.947103       0.453250   \n",
              "4        -0.025507      -1.421258      -0.290875       0.872319   \n",
              "..             ...            ...            ...            ...   \n",
              "745       0.042629      -0.385851       0.261177       0.180923   \n",
              "746       0.560128       0.510406       0.485416      -1.015275   \n",
              "747       1.185267       0.134043      -0.013664      -0.131177   \n",
              "748      -0.010075       0.499242       0.750225       0.169183   \n",
              "749       0.153298      -0.031606       0.006506       0.303281   \n",
              "\n",
              "     new feature 9  new feature 10  new feature 11  new feature 12  \n",
              "0        -0.362530       -0.266361        0.589218       -0.842507  \n",
              "1         0.275080       -0.507292       -0.119707       -0.661068  \n",
              "2        -0.889453        0.243310       -0.107887       -0.089135  \n",
              "3         0.135590       -0.550631        0.315002        0.261183  \n",
              "4        -1.385020       -0.298720        0.012161       -0.168566  \n",
              "..             ...             ...             ...             ...  \n",
              "745      -0.580402       -0.488867        0.741220       -0.295386  \n",
              "746      -0.553690       -0.783628       -0.227181       -0.843730  \n",
              "747       0.153730       -0.312214        0.293061        0.508886  \n",
              "748      -0.675073        0.380341        0.689389        0.827870  \n",
              "749       0.891364        0.413036       -0.403820        0.504600  \n",
              "\n",
              "[750 rows x 15 columns]"
            ]
          },
          "execution_count": 14,
          "metadata": {},
          "output_type": "execute_result"
        }
      ],
      "source": [
        "output_df = pd.DataFrame({\n",
        "    'Predicted labels before feature engineering': y_pred_test_before,\n",
        "    'Predicted labels after feature engineering': y_pred_test_after,\n",
        "    'No. of new features': x_test_trf.shape[1]\n",
        "})\n",
        "\n",
        "for i in range(x_test_trf.shape[1]):\n",
        "    output_df[f'new feature {i+1}'] = x_test_trf.iloc[:, i]\n",
        "output_df"
      ]
    },
    {
      "cell_type": "code",
      "execution_count": null,
      "metadata": {
        "id": "USIS-5tXNM1f"
      },
      "outputs": [],
      "source": [
        "output_df.to_csv('/content/drive/MyDrive/Colab Notebooks/files/190377T_label_3.csv', index=False)"
      ]
    }
  ],
  "metadata": {
    "colab": {
      "provenance": []
    },
    "kernelspec": {
      "display_name": "Python 3",
      "name": "python3"
    },
    "language_info": {
      "name": "python"
    }
  },
  "nbformat": 4,
  "nbformat_minor": 0
}
