{
  "cells": [
    {
      "cell_type": "code",
      "execution_count": null,
      "metadata": {
        "id": "TK2KaRo0Jbc8"
      },
      "outputs": [],
      "source": [
        "import pandas as pd\n",
        "import numpy as np\n",
        "\n",
        "labels = ['label_1', 'label_2', 'label_3', 'label_4']\n",
        "features = [f'feature_{i}' for i in range (1,257)]"
      ]
    },
    {
      "cell_type": "code",
      "execution_count": null,
      "metadata": {
        "colab": {
          "base_uri": "https://localhost:8080/"
        },
        "id": "xD5F6OArJpvp",
        "outputId": "ef793783-6f61-467a-aa44-7a929a0cb950"
      },
      "outputs": [
        {
          "data": {
            "text/plain": [
              "((28520, 260), (750, 260), (750, 260))"
            ]
          },
          "execution_count": 3,
          "metadata": {},
          "output_type": "execute_result"
        }
      ],
      "source": [
        "train_df = pd.read_csv('/content/drive/MyDrive/Colab Notebooks/files/train.csv')\n",
        "valid_df = pd.read_csv('/content/drive/MyDrive/Colab Notebooks/files/valid.csv')\n",
        "test_df = pd.read_csv('/content/drive/MyDrive/Colab Notebooks/files/test.csv')\n",
        "\n",
        "train_df.shape, valid_df.shape, test_df.shape"
      ]
    },
    {
      "cell_type": "code",
      "execution_count": null,
      "metadata": {
        "id": "wUwtlf8INgsb"
      },
      "outputs": [],
      "source": [
        "from sklearn.preprocessing import StandardScaler\n",
        "\n",
        "x_train = {}\n",
        "y_train = {}\n",
        "\n",
        "x_valid = {}\n",
        "y_valid = {}\n",
        "\n",
        "x_test = {}\n",
        "\n",
        "for label in labels:\n",
        "  tr_df = train_df[train_df['label_2'].notna()] if label == 'label_2' else train_df\n",
        "  vl_df = valid_df[valid_df['label_2'].notna()] if label == 'label_2' else valid_df\n",
        "  tst_df = test_df\n",
        "\n",
        "  scaler = StandardScaler()\n",
        "  x_train[label] = pd.DataFrame(scaler.fit_transform(tr_df.drop(labels, axis = 1)), columns = features)\n",
        "  y_train[label] = tr_df[label]\n",
        "\n",
        "  x_valid[label] = pd.DataFrame(scaler.transform(vl_df.drop(labels, axis = 1)), columns = features)\n",
        "  y_valid[label] = vl_df[label]\n",
        "\n",
        "  x_test[label] = pd.DataFrame(scaler.transform(tst_df.drop(labels, axis = 1)), columns = features)"
      ]
    },
    {
      "cell_type": "code",
      "execution_count": null,
      "metadata": {
        "colab": {
          "base_uri": "https://localhost:8080/",
          "height": 74
        },
        "id": "VG_wKf3vb0p0",
        "outputId": "096689e7-98c4-4bb9-d67e-7669087d45bd"
      },
      "outputs": [
        {
          "data": {
            "text/html": [
              "<style>#sk-container-id-6 {color: black;background-color: white;}#sk-container-id-6 pre{padding: 0;}#sk-container-id-6 div.sk-toggleable {background-color: white;}#sk-container-id-6 label.sk-toggleable__label {cursor: pointer;display: block;width: 100%;margin-bottom: 0;padding: 0.3em;box-sizing: border-box;text-align: center;}#sk-container-id-6 label.sk-toggleable__label-arrow:before {content: \"▸\";float: left;margin-right: 0.25em;color: #696969;}#sk-container-id-6 label.sk-toggleable__label-arrow:hover:before {color: black;}#sk-container-id-6 div.sk-estimator:hover label.sk-toggleable__label-arrow:before {color: black;}#sk-container-id-6 div.sk-toggleable__content {max-height: 0;max-width: 0;overflow: hidden;text-align: left;background-color: #f0f8ff;}#sk-container-id-6 div.sk-toggleable__content pre {margin: 0.2em;color: black;border-radius: 0.25em;background-color: #f0f8ff;}#sk-container-id-6 input.sk-toggleable__control:checked~div.sk-toggleable__content {max-height: 200px;max-width: 100%;overflow: auto;}#sk-container-id-6 input.sk-toggleable__control:checked~label.sk-toggleable__label-arrow:before {content: \"▾\";}#sk-container-id-6 div.sk-estimator input.sk-toggleable__control:checked~label.sk-toggleable__label {background-color: #d4ebff;}#sk-container-id-6 div.sk-label input.sk-toggleable__control:checked~label.sk-toggleable__label {background-color: #d4ebff;}#sk-container-id-6 input.sk-hidden--visually {border: 0;clip: rect(1px 1px 1px 1px);clip: rect(1px, 1px, 1px, 1px);height: 1px;margin: -1px;overflow: hidden;padding: 0;position: absolute;width: 1px;}#sk-container-id-6 div.sk-estimator {font-family: monospace;background-color: #f0f8ff;border: 1px dotted black;border-radius: 0.25em;box-sizing: border-box;margin-bottom: 0.5em;}#sk-container-id-6 div.sk-estimator:hover {background-color: #d4ebff;}#sk-container-id-6 div.sk-parallel-item::after {content: \"\";width: 100%;border-bottom: 1px solid gray;flex-grow: 1;}#sk-container-id-6 div.sk-label:hover label.sk-toggleable__label {background-color: #d4ebff;}#sk-container-id-6 div.sk-serial::before {content: \"\";position: absolute;border-left: 1px solid gray;box-sizing: border-box;top: 0;bottom: 0;left: 50%;z-index: 0;}#sk-container-id-6 div.sk-serial {display: flex;flex-direction: column;align-items: center;background-color: white;padding-right: 0.2em;padding-left: 0.2em;position: relative;}#sk-container-id-6 div.sk-item {position: relative;z-index: 1;}#sk-container-id-6 div.sk-parallel {display: flex;align-items: stretch;justify-content: center;background-color: white;position: relative;}#sk-container-id-6 div.sk-item::before, #sk-container-id-6 div.sk-parallel-item::before {content: \"\";position: absolute;border-left: 1px solid gray;box-sizing: border-box;top: 0;bottom: 0;left: 50%;z-index: -1;}#sk-container-id-6 div.sk-parallel-item {display: flex;flex-direction: column;z-index: 1;position: relative;background-color: white;}#sk-container-id-6 div.sk-parallel-item:first-child::after {align-self: flex-end;width: 50%;}#sk-container-id-6 div.sk-parallel-item:last-child::after {align-self: flex-start;width: 50%;}#sk-container-id-6 div.sk-parallel-item:only-child::after {width: 0;}#sk-container-id-6 div.sk-dashed-wrapped {border: 1px dashed gray;margin: 0 0.4em 0.5em 0.4em;box-sizing: border-box;padding-bottom: 0.4em;background-color: white;}#sk-container-id-6 div.sk-label label {font-family: monospace;font-weight: bold;display: inline-block;line-height: 1.2em;}#sk-container-id-6 div.sk-label-container {text-align: center;}#sk-container-id-6 div.sk-container {/* jupyter's `normalize.less` sets `[hidden] { display: none; }` but bootstrap.min.css set `[hidden] { display: none !important; }` so we also need the `!important` here to be able to override the default hidden behavior on the sphinx rendered scikit-learn.org. See: https://github.com/scikit-learn/scikit-learn/issues/21755 */display: inline-block !important;position: relative;}#sk-container-id-6 div.sk-text-repr-fallback {display: none;}</style><div id=\"sk-container-id-6\" class=\"sk-top-container\"><div class=\"sk-text-repr-fallback\"><pre>KNeighborsRegressor(n_neighbors=3)</pre><b>In a Jupyter environment, please rerun this cell to show the HTML representation or trust the notebook. <br />On GitHub, the HTML representation is unable to render, please try loading this page with nbviewer.org.</b></div><div class=\"sk-container\" hidden><div class=\"sk-item\"><div class=\"sk-estimator sk-toggleable\"><input class=\"sk-toggleable__control sk-hidden--visually\" id=\"sk-estimator-id-6\" type=\"checkbox\" checked><label for=\"sk-estimator-id-6\" class=\"sk-toggleable__label sk-toggleable__label-arrow\">KNeighborsRegressor</label><div class=\"sk-toggleable__content\"><pre>KNeighborsRegressor(n_neighbors=3)</pre></div></div></div></div></div>"
            ],
            "text/plain": [
              "KNeighborsRegressor(n_neighbors=3)"
            ]
          },
          "execution_count": 18,
          "metadata": {},
          "output_type": "execute_result"
        }
      ],
      "source": [
        "from sklearn.neighbors import KNeighborsRegressor\n",
        "\n",
        "knn = KNeighborsRegressor(n_neighbors=3)\n",
        "knn.fit(x_train['label_2'], y_train['label_2'])"
      ]
    },
    {
      "cell_type": "code",
      "execution_count": null,
      "metadata": {
        "id": "NVS6h-GYcIgG"
      },
      "outputs": [],
      "source": [
        "y_pred = knn.predict(x_valid['label_2'])\n",
        "y_pred_test_before = knn.predict(x_test['label_2'])"
      ]
    },
    {
      "cell_type": "code",
      "execution_count": null,
      "metadata": {
        "colab": {
          "base_uri": "https://localhost:8080/"
        },
        "id": "KETgPvcicSJ_",
        "outputId": "c6f7c7b1-bc97-4c4d-d69e-9c8194112863"
      },
      "outputs": [
        {
          "name": "stdout",
          "output_type": "stream",
          "text": [
            "Validation Set Performance:\n",
            "Mean Absolute Error: 0.07744565217391304\n",
            "Mean Squared Error: 0.3715277777777778\n",
            "R-squared: 0.991244390032218\n"
          ]
        }
      ],
      "source": [
        "from sklearn.metrics import mean_squared_error\n",
        "from sklearn import metrics\n",
        "\n",
        "# Evaluate the KNN regressor's performance\n",
        "print(\"Validation Set Performance:\")\n",
        "print(\"Mean Absolute Error:\", metrics.mean_absolute_error(y_valid['label_2'], y_pred))\n",
        "print(\"Mean Squared Error:\", metrics.mean_squared_error(y_valid['label_2'], y_pred))\n",
        "print(\"R-squared:\", metrics.r2_score(y_valid['label_2'], y_pred))\n"
      ]
    },
    {
      "cell_type": "code",
      "execution_count": null,
      "metadata": {
        "colab": {
          "base_uri": "https://localhost:8080/"
        },
        "id": "utDM8gn5liKU",
        "outputId": "e3123cd9-06bd-487e-e46e-7092a420f650"
      },
      "outputs": [
        {
          "name": "stdout",
          "output_type": "stream",
          "text": [
            "(28040, 200)\n",
            "(736, 200)\n",
            "(736, 200)\n"
          ]
        }
      ],
      "source": [
        "from sklearn.feature_selection import SelectKBest, f_classif\n",
        "\n",
        "selector = SelectKBest(f_classif, k=200)\n",
        "x_train_kBest = selector.fit_transform(x_train['label_2'], y_train['label_2'])\n",
        "x_valid_kBest = selector.transform(x_valid['label_2'])\n",
        "x_test_kBest = selector.transform(x_test['label_2'])\n",
        "print (x_train_kBest.shape)\n",
        "print (x_valid_kBest.shape)\n",
        "print (x_test_kBest.shape)"
      ]
    },
    {
      "cell_type": "code",
      "execution_count": null,
      "metadata": {
        "colab": {
          "base_uri": "https://localhost:8080/",
          "height": 74
        },
        "id": "2Pmiv6Iblol6",
        "outputId": "15c76228-7aa0-4294-dba4-ee2d937d74cc"
      },
      "outputs": [
        {
          "data": {
            "text/html": [
              "<style>#sk-container-id-10 {color: black;background-color: white;}#sk-container-id-10 pre{padding: 0;}#sk-container-id-10 div.sk-toggleable {background-color: white;}#sk-container-id-10 label.sk-toggleable__label {cursor: pointer;display: block;width: 100%;margin-bottom: 0;padding: 0.3em;box-sizing: border-box;text-align: center;}#sk-container-id-10 label.sk-toggleable__label-arrow:before {content: \"▸\";float: left;margin-right: 0.25em;color: #696969;}#sk-container-id-10 label.sk-toggleable__label-arrow:hover:before {color: black;}#sk-container-id-10 div.sk-estimator:hover label.sk-toggleable__label-arrow:before {color: black;}#sk-container-id-10 div.sk-toggleable__content {max-height: 0;max-width: 0;overflow: hidden;text-align: left;background-color: #f0f8ff;}#sk-container-id-10 div.sk-toggleable__content pre {margin: 0.2em;color: black;border-radius: 0.25em;background-color: #f0f8ff;}#sk-container-id-10 input.sk-toggleable__control:checked~div.sk-toggleable__content {max-height: 200px;max-width: 100%;overflow: auto;}#sk-container-id-10 input.sk-toggleable__control:checked~label.sk-toggleable__label-arrow:before {content: \"▾\";}#sk-container-id-10 div.sk-estimator input.sk-toggleable__control:checked~label.sk-toggleable__label {background-color: #d4ebff;}#sk-container-id-10 div.sk-label input.sk-toggleable__control:checked~label.sk-toggleable__label {background-color: #d4ebff;}#sk-container-id-10 input.sk-hidden--visually {border: 0;clip: rect(1px 1px 1px 1px);clip: rect(1px, 1px, 1px, 1px);height: 1px;margin: -1px;overflow: hidden;padding: 0;position: absolute;width: 1px;}#sk-container-id-10 div.sk-estimator {font-family: monospace;background-color: #f0f8ff;border: 1px dotted black;border-radius: 0.25em;box-sizing: border-box;margin-bottom: 0.5em;}#sk-container-id-10 div.sk-estimator:hover {background-color: #d4ebff;}#sk-container-id-10 div.sk-parallel-item::after {content: \"\";width: 100%;border-bottom: 1px solid gray;flex-grow: 1;}#sk-container-id-10 div.sk-label:hover label.sk-toggleable__label {background-color: #d4ebff;}#sk-container-id-10 div.sk-serial::before {content: \"\";position: absolute;border-left: 1px solid gray;box-sizing: border-box;top: 0;bottom: 0;left: 50%;z-index: 0;}#sk-container-id-10 div.sk-serial {display: flex;flex-direction: column;align-items: center;background-color: white;padding-right: 0.2em;padding-left: 0.2em;position: relative;}#sk-container-id-10 div.sk-item {position: relative;z-index: 1;}#sk-container-id-10 div.sk-parallel {display: flex;align-items: stretch;justify-content: center;background-color: white;position: relative;}#sk-container-id-10 div.sk-item::before, #sk-container-id-10 div.sk-parallel-item::before {content: \"\";position: absolute;border-left: 1px solid gray;box-sizing: border-box;top: 0;bottom: 0;left: 50%;z-index: -1;}#sk-container-id-10 div.sk-parallel-item {display: flex;flex-direction: column;z-index: 1;position: relative;background-color: white;}#sk-container-id-10 div.sk-parallel-item:first-child::after {align-self: flex-end;width: 50%;}#sk-container-id-10 div.sk-parallel-item:last-child::after {align-self: flex-start;width: 50%;}#sk-container-id-10 div.sk-parallel-item:only-child::after {width: 0;}#sk-container-id-10 div.sk-dashed-wrapped {border: 1px dashed gray;margin: 0 0.4em 0.5em 0.4em;box-sizing: border-box;padding-bottom: 0.4em;background-color: white;}#sk-container-id-10 div.sk-label label {font-family: monospace;font-weight: bold;display: inline-block;line-height: 1.2em;}#sk-container-id-10 div.sk-label-container {text-align: center;}#sk-container-id-10 div.sk-container {/* jupyter's `normalize.less` sets `[hidden] { display: none; }` but bootstrap.min.css set `[hidden] { display: none !important; }` so we also need the `!important` here to be able to override the default hidden behavior on the sphinx rendered scikit-learn.org. See: https://github.com/scikit-learn/scikit-learn/issues/21755 */display: inline-block !important;position: relative;}#sk-container-id-10 div.sk-text-repr-fallback {display: none;}</style><div id=\"sk-container-id-10\" class=\"sk-top-container\"><div class=\"sk-text-repr-fallback\"><pre>KNeighborsRegressor(n_neighbors=3)</pre><b>In a Jupyter environment, please rerun this cell to show the HTML representation or trust the notebook. <br />On GitHub, the HTML representation is unable to render, please try loading this page with nbviewer.org.</b></div><div class=\"sk-container\" hidden><div class=\"sk-item\"><div class=\"sk-estimator sk-toggleable\"><input class=\"sk-toggleable__control sk-hidden--visually\" id=\"sk-estimator-id-10\" type=\"checkbox\" checked><label for=\"sk-estimator-id-10\" class=\"sk-toggleable__label sk-toggleable__label-arrow\">KNeighborsRegressor</label><div class=\"sk-toggleable__content\"><pre>KNeighborsRegressor(n_neighbors=3)</pre></div></div></div></div></div>"
            ],
            "text/plain": [
              "KNeighborsRegressor(n_neighbors=3)"
            ]
          },
          "execution_count": 40,
          "metadata": {},
          "output_type": "execute_result"
        }
      ],
      "source": [
        "knn = KNeighborsRegressor(n_neighbors=3)\n",
        "knn.fit(x_train_kBest, y_train['label_2'])"
      ]
    },
    {
      "cell_type": "code",
      "execution_count": null,
      "metadata": {
        "id": "ikv3_AX6l7qN"
      },
      "outputs": [],
      "source": [
        "y_pred = knn.predict(x_valid_kBest)\n",
        "y_pred_test = knn.predict(x_test_kBest)"
      ]
    },
    {
      "cell_type": "code",
      "execution_count": null,
      "metadata": {
        "colab": {
          "base_uri": "https://localhost:8080/"
        },
        "id": "ApLzU9V3mDGh",
        "outputId": "24ba24b1-604f-4685-add6-984191469c14"
      },
      "outputs": [
        {
          "name": "stdout",
          "output_type": "stream",
          "text": [
            "Validation Set Performance:\n",
            "Mean Absolute Error: 0.09827898550724638\n",
            "Mean Squared Error: 0.4904891304347826\n",
            "R-squared: 0.9884408871250209\n"
          ]
        }
      ],
      "source": [
        "from sklearn.metrics import mean_squared_error\n",
        "from sklearn import metrics\n",
        "\n",
        "# Evaluate the KNN regressor's performance\n",
        "print(\"Validation Set Performance:\")\n",
        "print(\"Mean Absolute Error:\", metrics.mean_absolute_error(y_valid['label_2'], y_pred))\n",
        "print(\"Mean Squared Error:\", metrics.mean_squared_error(y_valid['label_2'], y_pred))\n",
        "print(\"R-squared:\", metrics.r2_score(y_valid['label_2'], y_pred))"
      ]
    },
    {
      "cell_type": "code",
      "execution_count": null,
      "metadata": {
        "colab": {
          "base_uri": "https://localhost:8080/"
        },
        "id": "RSdwjDZnmVUU",
        "outputId": "e9cf8e33-010b-4d8a-9c55-978beced38b3"
      },
      "outputs": [
        {
          "name": "stdout",
          "output_type": "stream",
          "text": [
            "(28040, 63)\n",
            "(736, 63)\n",
            "(736, 63)\n"
          ]
        }
      ],
      "source": [
        "from sklearn.decomposition import PCA\n",
        "\n",
        "pca = PCA(n_components= 0.95, svd_solver='full')\n",
        "pca.fit(x_train_kBest)\n",
        "x_train_trf = pd.DataFrame(pca.transform(x_train_kBest))\n",
        "x_valid_trf = pd.DataFrame(pca.transform(x_valid_kBest))\n",
        "x_test_trf = pd.DataFrame(pca.transform(x_test_kBest))\n",
        "print(x_train_trf.shape)\n",
        "print(x_valid_trf.shape)\n",
        "print(x_test_trf.shape)"
      ]
    },
    {
      "cell_type": "code",
      "execution_count": null,
      "metadata": {
        "colab": {
          "base_uri": "https://localhost:8080/",
          "height": 74
        },
        "id": "EAyllOL-mY5R",
        "outputId": "7471aa7b-4fbb-4af7-d9f8-891e5f4be37f"
      },
      "outputs": [
        {
          "data": {
            "text/html": [
              "<style>#sk-container-id-11 {color: black;background-color: white;}#sk-container-id-11 pre{padding: 0;}#sk-container-id-11 div.sk-toggleable {background-color: white;}#sk-container-id-11 label.sk-toggleable__label {cursor: pointer;display: block;width: 100%;margin-bottom: 0;padding: 0.3em;box-sizing: border-box;text-align: center;}#sk-container-id-11 label.sk-toggleable__label-arrow:before {content: \"▸\";float: left;margin-right: 0.25em;color: #696969;}#sk-container-id-11 label.sk-toggleable__label-arrow:hover:before {color: black;}#sk-container-id-11 div.sk-estimator:hover label.sk-toggleable__label-arrow:before {color: black;}#sk-container-id-11 div.sk-toggleable__content {max-height: 0;max-width: 0;overflow: hidden;text-align: left;background-color: #f0f8ff;}#sk-container-id-11 div.sk-toggleable__content pre {margin: 0.2em;color: black;border-radius: 0.25em;background-color: #f0f8ff;}#sk-container-id-11 input.sk-toggleable__control:checked~div.sk-toggleable__content {max-height: 200px;max-width: 100%;overflow: auto;}#sk-container-id-11 input.sk-toggleable__control:checked~label.sk-toggleable__label-arrow:before {content: \"▾\";}#sk-container-id-11 div.sk-estimator input.sk-toggleable__control:checked~label.sk-toggleable__label {background-color: #d4ebff;}#sk-container-id-11 div.sk-label input.sk-toggleable__control:checked~label.sk-toggleable__label {background-color: #d4ebff;}#sk-container-id-11 input.sk-hidden--visually {border: 0;clip: rect(1px 1px 1px 1px);clip: rect(1px, 1px, 1px, 1px);height: 1px;margin: -1px;overflow: hidden;padding: 0;position: absolute;width: 1px;}#sk-container-id-11 div.sk-estimator {font-family: monospace;background-color: #f0f8ff;border: 1px dotted black;border-radius: 0.25em;box-sizing: border-box;margin-bottom: 0.5em;}#sk-container-id-11 div.sk-estimator:hover {background-color: #d4ebff;}#sk-container-id-11 div.sk-parallel-item::after {content: \"\";width: 100%;border-bottom: 1px solid gray;flex-grow: 1;}#sk-container-id-11 div.sk-label:hover label.sk-toggleable__label {background-color: #d4ebff;}#sk-container-id-11 div.sk-serial::before {content: \"\";position: absolute;border-left: 1px solid gray;box-sizing: border-box;top: 0;bottom: 0;left: 50%;z-index: 0;}#sk-container-id-11 div.sk-serial {display: flex;flex-direction: column;align-items: center;background-color: white;padding-right: 0.2em;padding-left: 0.2em;position: relative;}#sk-container-id-11 div.sk-item {position: relative;z-index: 1;}#sk-container-id-11 div.sk-parallel {display: flex;align-items: stretch;justify-content: center;background-color: white;position: relative;}#sk-container-id-11 div.sk-item::before, #sk-container-id-11 div.sk-parallel-item::before {content: \"\";position: absolute;border-left: 1px solid gray;box-sizing: border-box;top: 0;bottom: 0;left: 50%;z-index: -1;}#sk-container-id-11 div.sk-parallel-item {display: flex;flex-direction: column;z-index: 1;position: relative;background-color: white;}#sk-container-id-11 div.sk-parallel-item:first-child::after {align-self: flex-end;width: 50%;}#sk-container-id-11 div.sk-parallel-item:last-child::after {align-self: flex-start;width: 50%;}#sk-container-id-11 div.sk-parallel-item:only-child::after {width: 0;}#sk-container-id-11 div.sk-dashed-wrapped {border: 1px dashed gray;margin: 0 0.4em 0.5em 0.4em;box-sizing: border-box;padding-bottom: 0.4em;background-color: white;}#sk-container-id-11 div.sk-label label {font-family: monospace;font-weight: bold;display: inline-block;line-height: 1.2em;}#sk-container-id-11 div.sk-label-container {text-align: center;}#sk-container-id-11 div.sk-container {/* jupyter's `normalize.less` sets `[hidden] { display: none; }` but bootstrap.min.css set `[hidden] { display: none !important; }` so we also need the `!important` here to be able to override the default hidden behavior on the sphinx rendered scikit-learn.org. See: https://github.com/scikit-learn/scikit-learn/issues/21755 */display: inline-block !important;position: relative;}#sk-container-id-11 div.sk-text-repr-fallback {display: none;}</style><div id=\"sk-container-id-11\" class=\"sk-top-container\"><div class=\"sk-text-repr-fallback\"><pre>KNeighborsRegressor(n_neighbors=3)</pre><b>In a Jupyter environment, please rerun this cell to show the HTML representation or trust the notebook. <br />On GitHub, the HTML representation is unable to render, please try loading this page with nbviewer.org.</b></div><div class=\"sk-container\" hidden><div class=\"sk-item\"><div class=\"sk-estimator sk-toggleable\"><input class=\"sk-toggleable__control sk-hidden--visually\" id=\"sk-estimator-id-11\" type=\"checkbox\" checked><label for=\"sk-estimator-id-11\" class=\"sk-toggleable__label sk-toggleable__label-arrow\">KNeighborsRegressor</label><div class=\"sk-toggleable__content\"><pre>KNeighborsRegressor(n_neighbors=3)</pre></div></div></div></div></div>"
            ],
            "text/plain": [
              "KNeighborsRegressor(n_neighbors=3)"
            ]
          },
          "execution_count": 45,
          "metadata": {},
          "output_type": "execute_result"
        }
      ],
      "source": [
        "knn = KNeighborsRegressor(n_neighbors=3)\n",
        "knn.fit(x_train_trf, y_train['label_2'])"
      ]
    },
    {
      "cell_type": "code",
      "execution_count": null,
      "metadata": {
        "id": "9V4BOzasmeqp"
      },
      "outputs": [],
      "source": [
        "y_pred = knn.predict(x_valid_trf)\n",
        "y_pred_test_after = knn.predict(x_test_trf)"
      ]
    },
    {
      "cell_type": "code",
      "execution_count": null,
      "metadata": {
        "colab": {
          "base_uri": "https://localhost:8080/"
        },
        "id": "V2D3etbWmgzt",
        "outputId": "b7498368-a1db-439a-b43b-8062a3f50f48"
      },
      "outputs": [
        {
          "name": "stdout",
          "output_type": "stream",
          "text": [
            "Validation Set Performance:\n",
            "Mean Absolute Error: 0.1177536231884058\n",
            "Mean Squared Error: 0.6699879227053139\n",
            "R-squared: 0.9842107285505826\n"
          ]
        }
      ],
      "source": [
        "from sklearn.metrics import mean_squared_error\n",
        "from sklearn import metrics\n",
        "\n",
        "# Evaluate the KNN regressor's performance\n",
        "print(\"Validation Set Performance:\")\n",
        "print(\"Mean Absolute Error:\", metrics.mean_absolute_error(y_valid['label_2'], y_pred))\n",
        "print(\"Mean Squared Error:\", metrics.mean_squared_error(y_valid['label_2'], y_pred))\n",
        "print(\"R-squared:\", metrics.r2_score(y_valid['label_2'], y_pred))"
      ]
    },
    {
      "cell_type": "code",
      "execution_count": null,
      "metadata": {
        "colab": {
          "base_uri": "https://localhost:8080/"
        },
        "id": "3hHr72LFmnh8",
        "outputId": "8fd98542-35ed-44ce-cd1f-1c28cba2a573"
      },
      "outputs": [
        {
          "name": "stdout",
          "output_type": "stream",
          "text": [
            "63\n"
          ]
        }
      ],
      "source": [
        "num_new_features = x_test_trf.shape[1]\n",
        "print(num_new_features)"
      ]
    },
    {
      "cell_type": "code",
      "execution_count": null,
      "metadata": {
        "colab": {
          "base_uri": "https://localhost:8080/",
          "height": 513
        },
        "id": "bUeGnFcumruF",
        "outputId": "02ad38f7-a6dd-4f9f-860d-d04a7b3f2524"
      },
      "outputs": [
        {
          "data": {
            "text/html": [
              "\n",
              "  <div id=\"df-3c292a72-f9fc-48c1-bf1b-5df59c3b8c1a\" class=\"colab-df-container\">\n",
              "    <div>\n",
              "<style scoped>\n",
              "    .dataframe tbody tr th:only-of-type {\n",
              "        vertical-align: middle;\n",
              "    }\n",
              "\n",
              "    .dataframe tbody tr th {\n",
              "        vertical-align: top;\n",
              "    }\n",
              "\n",
              "    .dataframe thead th {\n",
              "        text-align: right;\n",
              "    }\n",
              "</style>\n",
              "<table border=\"1\" class=\"dataframe\">\n",
              "  <thead>\n",
              "    <tr style=\"text-align: right;\">\n",
              "      <th></th>\n",
              "      <th>Predicted labels before feature engineering</th>\n",
              "      <th>Predicted labels after feature engineering</th>\n",
              "      <th>No. of new features</th>\n",
              "      <th>new feature 1</th>\n",
              "      <th>new feature 2</th>\n",
              "      <th>new feature 3</th>\n",
              "      <th>new feature 4</th>\n",
              "      <th>new feature 5</th>\n",
              "      <th>new feature 6</th>\n",
              "      <th>new feature 7</th>\n",
              "      <th>...</th>\n",
              "      <th>new feature 54</th>\n",
              "      <th>new feature 55</th>\n",
              "      <th>new feature 56</th>\n",
              "      <th>new feature 57</th>\n",
              "      <th>new feature 58</th>\n",
              "      <th>new feature 59</th>\n",
              "      <th>new feature 60</th>\n",
              "      <th>new feature 61</th>\n",
              "      <th>new feature 62</th>\n",
              "      <th>new feature 63</th>\n",
              "    </tr>\n",
              "  </thead>\n",
              "  <tbody>\n",
              "    <tr>\n",
              "      <th>0</th>\n",
              "      <td>25.0</td>\n",
              "      <td>25.0</td>\n",
              "      <td>63</td>\n",
              "      <td>2.002570</td>\n",
              "      <td>1.008005</td>\n",
              "      <td>-0.637817</td>\n",
              "      <td>-3.833345</td>\n",
              "      <td>2.369131</td>\n",
              "      <td>-3.733078</td>\n",
              "      <td>0.401496</td>\n",
              "      <td>...</td>\n",
              "      <td>-0.663071</td>\n",
              "      <td>0.827220</td>\n",
              "      <td>-0.427780</td>\n",
              "      <td>0.202375</td>\n",
              "      <td>-1.225741</td>\n",
              "      <td>0.008430</td>\n",
              "      <td>0.782036</td>\n",
              "      <td>-0.179641</td>\n",
              "      <td>0.325557</td>\n",
              "      <td>0.334613</td>\n",
              "    </tr>\n",
              "    <tr>\n",
              "      <th>1</th>\n",
              "      <td>25.0</td>\n",
              "      <td>25.0</td>\n",
              "      <td>63</td>\n",
              "      <td>4.887731</td>\n",
              "      <td>-2.057620</td>\n",
              "      <td>0.145484</td>\n",
              "      <td>-0.865058</td>\n",
              "      <td>-2.293970</td>\n",
              "      <td>-2.796303</td>\n",
              "      <td>2.140080</td>\n",
              "      <td>...</td>\n",
              "      <td>0.967900</td>\n",
              "      <td>-0.222786</td>\n",
              "      <td>-0.948916</td>\n",
              "      <td>-0.189948</td>\n",
              "      <td>-0.514662</td>\n",
              "      <td>0.138834</td>\n",
              "      <td>0.062203</td>\n",
              "      <td>-0.485803</td>\n",
              "      <td>-0.025816</td>\n",
              "      <td>-0.748126</td>\n",
              "    </tr>\n",
              "    <tr>\n",
              "      <th>2</th>\n",
              "      <td>25.0</td>\n",
              "      <td>25.0</td>\n",
              "      <td>63</td>\n",
              "      <td>0.014203</td>\n",
              "      <td>1.644746</td>\n",
              "      <td>-5.128421</td>\n",
              "      <td>-3.849604</td>\n",
              "      <td>0.837745</td>\n",
              "      <td>-3.798704</td>\n",
              "      <td>-0.242820</td>\n",
              "      <td>...</td>\n",
              "      <td>-1.473518</td>\n",
              "      <td>0.927577</td>\n",
              "      <td>-0.044119</td>\n",
              "      <td>1.404461</td>\n",
              "      <td>-0.966427</td>\n",
              "      <td>-0.140542</td>\n",
              "      <td>0.978434</td>\n",
              "      <td>-0.233260</td>\n",
              "      <td>0.360298</td>\n",
              "      <td>-0.341674</td>\n",
              "    </tr>\n",
              "    <tr>\n",
              "      <th>3</th>\n",
              "      <td>25.0</td>\n",
              "      <td>25.0</td>\n",
              "      <td>63</td>\n",
              "      <td>1.339128</td>\n",
              "      <td>2.866874</td>\n",
              "      <td>-6.449367</td>\n",
              "      <td>-2.191864</td>\n",
              "      <td>1.075924</td>\n",
              "      <td>-3.614299</td>\n",
              "      <td>-0.467487</td>\n",
              "      <td>...</td>\n",
              "      <td>0.029930</td>\n",
              "      <td>0.217091</td>\n",
              "      <td>-0.733589</td>\n",
              "      <td>0.800939</td>\n",
              "      <td>-0.501627</td>\n",
              "      <td>-0.215077</td>\n",
              "      <td>0.354504</td>\n",
              "      <td>1.343081</td>\n",
              "      <td>-0.430917</td>\n",
              "      <td>0.795790</td>\n",
              "    </tr>\n",
              "    <tr>\n",
              "      <th>4</th>\n",
              "      <td>25.0</td>\n",
              "      <td>25.0</td>\n",
              "      <td>63</td>\n",
              "      <td>1.899913</td>\n",
              "      <td>-0.645804</td>\n",
              "      <td>-2.468413</td>\n",
              "      <td>1.856774</td>\n",
              "      <td>0.502110</td>\n",
              "      <td>-1.782838</td>\n",
              "      <td>-4.613325</td>\n",
              "      <td>...</td>\n",
              "      <td>0.022576</td>\n",
              "      <td>-0.628454</td>\n",
              "      <td>-0.149471</td>\n",
              "      <td>0.102398</td>\n",
              "      <td>0.917642</td>\n",
              "      <td>0.150497</td>\n",
              "      <td>-0.209066</td>\n",
              "      <td>1.021327</td>\n",
              "      <td>0.737844</td>\n",
              "      <td>-0.083449</td>\n",
              "    </tr>\n",
              "    <tr>\n",
              "      <th>...</th>\n",
              "      <td>...</td>\n",
              "      <td>...</td>\n",
              "      <td>...</td>\n",
              "      <td>...</td>\n",
              "      <td>...</td>\n",
              "      <td>...</td>\n",
              "      <td>...</td>\n",
              "      <td>...</td>\n",
              "      <td>...</td>\n",
              "      <td>...</td>\n",
              "      <td>...</td>\n",
              "      <td>...</td>\n",
              "      <td>...</td>\n",
              "      <td>...</td>\n",
              "      <td>...</td>\n",
              "      <td>...</td>\n",
              "      <td>...</td>\n",
              "      <td>...</td>\n",
              "      <td>...</td>\n",
              "      <td>...</td>\n",
              "      <td>...</td>\n",
              "    </tr>\n",
              "    <tr>\n",
              "      <th>731</th>\n",
              "      <td>29.0</td>\n",
              "      <td>29.0</td>\n",
              "      <td>63</td>\n",
              "      <td>3.652322</td>\n",
              "      <td>1.236319</td>\n",
              "      <td>5.112444</td>\n",
              "      <td>3.013916</td>\n",
              "      <td>4.023141</td>\n",
              "      <td>-0.264678</td>\n",
              "      <td>-4.971714</td>\n",
              "      <td>...</td>\n",
              "      <td>0.765733</td>\n",
              "      <td>1.887753</td>\n",
              "      <td>1.450292</td>\n",
              "      <td>-0.828060</td>\n",
              "      <td>-0.535004</td>\n",
              "      <td>0.073929</td>\n",
              "      <td>-2.823294</td>\n",
              "      <td>-0.806746</td>\n",
              "      <td>-0.114847</td>\n",
              "      <td>0.186816</td>\n",
              "    </tr>\n",
              "    <tr>\n",
              "      <th>732</th>\n",
              "      <td>29.0</td>\n",
              "      <td>29.0</td>\n",
              "      <td>63</td>\n",
              "      <td>-1.789947</td>\n",
              "      <td>8.529895</td>\n",
              "      <td>0.545955</td>\n",
              "      <td>-0.658622</td>\n",
              "      <td>1.417001</td>\n",
              "      <td>3.615407</td>\n",
              "      <td>-1.170023</td>\n",
              "      <td>...</td>\n",
              "      <td>0.008034</td>\n",
              "      <td>0.029203</td>\n",
              "      <td>0.007810</td>\n",
              "      <td>-0.866801</td>\n",
              "      <td>-0.388897</td>\n",
              "      <td>0.251097</td>\n",
              "      <td>-0.013333</td>\n",
              "      <td>0.118808</td>\n",
              "      <td>-0.839660</td>\n",
              "      <td>0.225668</td>\n",
              "    </tr>\n",
              "    <tr>\n",
              "      <th>733</th>\n",
              "      <td>29.0</td>\n",
              "      <td>29.0</td>\n",
              "      <td>63</td>\n",
              "      <td>1.342084</td>\n",
              "      <td>2.008046</td>\n",
              "      <td>3.515062</td>\n",
              "      <td>0.300107</td>\n",
              "      <td>1.134492</td>\n",
              "      <td>1.605048</td>\n",
              "      <td>-5.004100</td>\n",
              "      <td>...</td>\n",
              "      <td>-1.016923</td>\n",
              "      <td>1.688013</td>\n",
              "      <td>-0.703982</td>\n",
              "      <td>-0.360291</td>\n",
              "      <td>0.286506</td>\n",
              "      <td>-0.573106</td>\n",
              "      <td>-0.431206</td>\n",
              "      <td>0.012209</td>\n",
              "      <td>0.200112</td>\n",
              "      <td>-0.674270</td>\n",
              "    </tr>\n",
              "    <tr>\n",
              "      <th>734</th>\n",
              "      <td>29.0</td>\n",
              "      <td>29.0</td>\n",
              "      <td>63</td>\n",
              "      <td>2.035663</td>\n",
              "      <td>-1.217966</td>\n",
              "      <td>-1.450449</td>\n",
              "      <td>1.473739</td>\n",
              "      <td>2.435615</td>\n",
              "      <td>2.834462</td>\n",
              "      <td>-8.707434</td>\n",
              "      <td>...</td>\n",
              "      <td>0.495554</td>\n",
              "      <td>0.374423</td>\n",
              "      <td>-0.229033</td>\n",
              "      <td>-0.311864</td>\n",
              "      <td>-1.719611</td>\n",
              "      <td>-1.685917</td>\n",
              "      <td>0.424514</td>\n",
              "      <td>-0.109508</td>\n",
              "      <td>-0.146349</td>\n",
              "      <td>-0.055599</td>\n",
              "    </tr>\n",
              "    <tr>\n",
              "      <th>735</th>\n",
              "      <td>29.0</td>\n",
              "      <td>29.0</td>\n",
              "      <td>63</td>\n",
              "      <td>-0.405276</td>\n",
              "      <td>3.619356</td>\n",
              "      <td>-2.334190</td>\n",
              "      <td>-4.962735</td>\n",
              "      <td>3.027202</td>\n",
              "      <td>0.020650</td>\n",
              "      <td>3.130734</td>\n",
              "      <td>...</td>\n",
              "      <td>-0.055424</td>\n",
              "      <td>0.593852</td>\n",
              "      <td>-0.605847</td>\n",
              "      <td>0.416304</td>\n",
              "      <td>0.499943</td>\n",
              "      <td>0.448929</td>\n",
              "      <td>-0.413832</td>\n",
              "      <td>-1.091416</td>\n",
              "      <td>-1.085045</td>\n",
              "      <td>0.216508</td>\n",
              "    </tr>\n",
              "  </tbody>\n",
              "</table>\n",
              "<p>736 rows × 66 columns</p>\n",
              "</div>\n",
              "    <div class=\"colab-df-buttons\">\n",
              "\n",
              "  <div class=\"colab-df-container\">\n",
              "    <button class=\"colab-df-convert\" onclick=\"convertToInteractive('df-3c292a72-f9fc-48c1-bf1b-5df59c3b8c1a')\"\n",
              "            title=\"Convert this dataframe to an interactive table.\"\n",
              "            style=\"display:none;\">\n",
              "\n",
              "  <svg xmlns=\"http://www.w3.org/2000/svg\" height=\"24px\" viewBox=\"0 -960 960 960\">\n",
              "    <path d=\"M120-120v-720h720v720H120Zm60-500h600v-160H180v160Zm220 220h160v-160H400v160Zm0 220h160v-160H400v160ZM180-400h160v-160H180v160Zm440 0h160v-160H620v160ZM180-180h160v-160H180v160Zm440 0h160v-160H620v160Z\"/>\n",
              "  </svg>\n",
              "    </button>\n",
              "\n",
              "  <style>\n",
              "    .colab-df-container {\n",
              "      display:flex;\n",
              "      gap: 12px;\n",
              "    }\n",
              "\n",
              "    .colab-df-convert {\n",
              "      background-color: #E8F0FE;\n",
              "      border: none;\n",
              "      border-radius: 50%;\n",
              "      cursor: pointer;\n",
              "      display: none;\n",
              "      fill: #1967D2;\n",
              "      height: 32px;\n",
              "      padding: 0 0 0 0;\n",
              "      width: 32px;\n",
              "    }\n",
              "\n",
              "    .colab-df-convert:hover {\n",
              "      background-color: #E2EBFA;\n",
              "      box-shadow: 0px 1px 2px rgba(60, 64, 67, 0.3), 0px 1px 3px 1px rgba(60, 64, 67, 0.15);\n",
              "      fill: #174EA6;\n",
              "    }\n",
              "\n",
              "    .colab-df-buttons div {\n",
              "      margin-bottom: 4px;\n",
              "    }\n",
              "\n",
              "    [theme=dark] .colab-df-convert {\n",
              "      background-color: #3B4455;\n",
              "      fill: #D2E3FC;\n",
              "    }\n",
              "\n",
              "    [theme=dark] .colab-df-convert:hover {\n",
              "      background-color: #434B5C;\n",
              "      box-shadow: 0px 1px 3px 1px rgba(0, 0, 0, 0.15);\n",
              "      filter: drop-shadow(0px 1px 2px rgba(0, 0, 0, 0.3));\n",
              "      fill: #FFFFFF;\n",
              "    }\n",
              "  </style>\n",
              "\n",
              "    <script>\n",
              "      const buttonEl =\n",
              "        document.querySelector('#df-3c292a72-f9fc-48c1-bf1b-5df59c3b8c1a button.colab-df-convert');\n",
              "      buttonEl.style.display =\n",
              "        google.colab.kernel.accessAllowed ? 'block' : 'none';\n",
              "\n",
              "      async function convertToInteractive(key) {\n",
              "        const element = document.querySelector('#df-3c292a72-f9fc-48c1-bf1b-5df59c3b8c1a');\n",
              "        const dataTable =\n",
              "          await google.colab.kernel.invokeFunction('convertToInteractive',\n",
              "                                                    [key], {});\n",
              "        if (!dataTable) return;\n",
              "\n",
              "        const docLinkHtml = 'Like what you see? Visit the ' +\n",
              "          '<a target=\"_blank\" href=https://colab.research.google.com/notebooks/data_table.ipynb>data table notebook</a>'\n",
              "          + ' to learn more about interactive tables.';\n",
              "        element.innerHTML = '';\n",
              "        dataTable['output_type'] = 'display_data';\n",
              "        await google.colab.output.renderOutput(dataTable, element);\n",
              "        const docLink = document.createElement('div');\n",
              "        docLink.innerHTML = docLinkHtml;\n",
              "        element.appendChild(docLink);\n",
              "      }\n",
              "    </script>\n",
              "  </div>\n",
              "\n",
              "\n",
              "<div id=\"df-6573537f-5d74-473a-963c-f15cc44033ad\">\n",
              "  <button class=\"colab-df-quickchart\" onclick=\"quickchart('df-6573537f-5d74-473a-963c-f15cc44033ad')\"\n",
              "            title=\"Suggest charts.\"\n",
              "            style=\"display:none;\">\n",
              "\n",
              "<svg xmlns=\"http://www.w3.org/2000/svg\" height=\"24px\"viewBox=\"0 0 24 24\"\n",
              "     width=\"24px\">\n",
              "    <g>\n",
              "        <path d=\"M19 3H5c-1.1 0-2 .9-2 2v14c0 1.1.9 2 2 2h14c1.1 0 2-.9 2-2V5c0-1.1-.9-2-2-2zM9 17H7v-7h2v7zm4 0h-2V7h2v10zm4 0h-2v-4h2v4z\"/>\n",
              "    </g>\n",
              "</svg>\n",
              "  </button>\n",
              "\n",
              "<style>\n",
              "  .colab-df-quickchart {\n",
              "    background-color: #E8F0FE;\n",
              "    border: none;\n",
              "    border-radius: 50%;\n",
              "    cursor: pointer;\n",
              "    display: none;\n",
              "    fill: #1967D2;\n",
              "    height: 32px;\n",
              "    padding: 0 0 0 0;\n",
              "    width: 32px;\n",
              "  }\n",
              "\n",
              "  .colab-df-quickchart:hover {\n",
              "    background-color: #E2EBFA;\n",
              "    box-shadow: 0px 1px 2px rgba(60, 64, 67, 0.3), 0px 1px 3px 1px rgba(60, 64, 67, 0.15);\n",
              "    fill: #174EA6;\n",
              "  }\n",
              "\n",
              "  [theme=dark] .colab-df-quickchart {\n",
              "    background-color: #3B4455;\n",
              "    fill: #D2E3FC;\n",
              "  }\n",
              "\n",
              "  [theme=dark] .colab-df-quickchart:hover {\n",
              "    background-color: #434B5C;\n",
              "    box-shadow: 0px 1px 3px 1px rgba(0, 0, 0, 0.15);\n",
              "    filter: drop-shadow(0px 1px 2px rgba(0, 0, 0, 0.3));\n",
              "    fill: #FFFFFF;\n",
              "  }\n",
              "</style>\n",
              "\n",
              "  <script>\n",
              "    async function quickchart(key) {\n",
              "      const charts = await google.colab.kernel.invokeFunction(\n",
              "          'suggestCharts', [key], {});\n",
              "    }\n",
              "    (() => {\n",
              "      let quickchartButtonEl =\n",
              "        document.querySelector('#df-6573537f-5d74-473a-963c-f15cc44033ad button');\n",
              "      quickchartButtonEl.style.display =\n",
              "        google.colab.kernel.accessAllowed ? 'block' : 'none';\n",
              "    })();\n",
              "  </script>\n",
              "</div>\n",
              "    </div>\n",
              "  </div>\n"
            ],
            "text/plain": [
              "     Predicted labels before feature engineering  \\\n",
              "0                                           25.0   \n",
              "1                                           25.0   \n",
              "2                                           25.0   \n",
              "3                                           25.0   \n",
              "4                                           25.0   \n",
              "..                                           ...   \n",
              "731                                         29.0   \n",
              "732                                         29.0   \n",
              "733                                         29.0   \n",
              "734                                         29.0   \n",
              "735                                         29.0   \n",
              "\n",
              "     Predicted labels after feature engineering  No. of new features  \\\n",
              "0                                          25.0                   63   \n",
              "1                                          25.0                   63   \n",
              "2                                          25.0                   63   \n",
              "3                                          25.0                   63   \n",
              "4                                          25.0                   63   \n",
              "..                                          ...                  ...   \n",
              "731                                        29.0                   63   \n",
              "732                                        29.0                   63   \n",
              "733                                        29.0                   63   \n",
              "734                                        29.0                   63   \n",
              "735                                        29.0                   63   \n",
              "\n",
              "     new feature 1  new feature 2  new feature 3  new feature 4  \\\n",
              "0         2.002570       1.008005      -0.637817      -3.833345   \n",
              "1         4.887731      -2.057620       0.145484      -0.865058   \n",
              "2         0.014203       1.644746      -5.128421      -3.849604   \n",
              "3         1.339128       2.866874      -6.449367      -2.191864   \n",
              "4         1.899913      -0.645804      -2.468413       1.856774   \n",
              "..             ...            ...            ...            ...   \n",
              "731       3.652322       1.236319       5.112444       3.013916   \n",
              "732      -1.789947       8.529895       0.545955      -0.658622   \n",
              "733       1.342084       2.008046       3.515062       0.300107   \n",
              "734       2.035663      -1.217966      -1.450449       1.473739   \n",
              "735      -0.405276       3.619356      -2.334190      -4.962735   \n",
              "\n",
              "     new feature 5  new feature 6  new feature 7  ...  new feature 54  \\\n",
              "0         2.369131      -3.733078       0.401496  ...       -0.663071   \n",
              "1        -2.293970      -2.796303       2.140080  ...        0.967900   \n",
              "2         0.837745      -3.798704      -0.242820  ...       -1.473518   \n",
              "3         1.075924      -3.614299      -0.467487  ...        0.029930   \n",
              "4         0.502110      -1.782838      -4.613325  ...        0.022576   \n",
              "..             ...            ...            ...  ...             ...   \n",
              "731       4.023141      -0.264678      -4.971714  ...        0.765733   \n",
              "732       1.417001       3.615407      -1.170023  ...        0.008034   \n",
              "733       1.134492       1.605048      -5.004100  ...       -1.016923   \n",
              "734       2.435615       2.834462      -8.707434  ...        0.495554   \n",
              "735       3.027202       0.020650       3.130734  ...       -0.055424   \n",
              "\n",
              "     new feature 55  new feature 56  new feature 57  new feature 58  \\\n",
              "0          0.827220       -0.427780        0.202375       -1.225741   \n",
              "1         -0.222786       -0.948916       -0.189948       -0.514662   \n",
              "2          0.927577       -0.044119        1.404461       -0.966427   \n",
              "3          0.217091       -0.733589        0.800939       -0.501627   \n",
              "4         -0.628454       -0.149471        0.102398        0.917642   \n",
              "..              ...             ...             ...             ...   \n",
              "731        1.887753        1.450292       -0.828060       -0.535004   \n",
              "732        0.029203        0.007810       -0.866801       -0.388897   \n",
              "733        1.688013       -0.703982       -0.360291        0.286506   \n",
              "734        0.374423       -0.229033       -0.311864       -1.719611   \n",
              "735        0.593852       -0.605847        0.416304        0.499943   \n",
              "\n",
              "     new feature 59  new feature 60  new feature 61  new feature 62  \\\n",
              "0          0.008430        0.782036       -0.179641        0.325557   \n",
              "1          0.138834        0.062203       -0.485803       -0.025816   \n",
              "2         -0.140542        0.978434       -0.233260        0.360298   \n",
              "3         -0.215077        0.354504        1.343081       -0.430917   \n",
              "4          0.150497       -0.209066        1.021327        0.737844   \n",
              "..              ...             ...             ...             ...   \n",
              "731        0.073929       -2.823294       -0.806746       -0.114847   \n",
              "732        0.251097       -0.013333        0.118808       -0.839660   \n",
              "733       -0.573106       -0.431206        0.012209        0.200112   \n",
              "734       -1.685917        0.424514       -0.109508       -0.146349   \n",
              "735        0.448929       -0.413832       -1.091416       -1.085045   \n",
              "\n",
              "     new feature 63  \n",
              "0          0.334613  \n",
              "1         -0.748126  \n",
              "2         -0.341674  \n",
              "3          0.795790  \n",
              "4         -0.083449  \n",
              "..              ...  \n",
              "731        0.186816  \n",
              "732        0.225668  \n",
              "733       -0.674270  \n",
              "734       -0.055599  \n",
              "735        0.216508  \n",
              "\n",
              "[736 rows x 66 columns]"
            ]
          },
          "execution_count": 52,
          "metadata": {},
          "output_type": "execute_result"
        }
      ],
      "source": [
        "output_df = pd.DataFrame({\n",
        "    'Predicted labels before feature engineering': y_pred_test_before,\n",
        "    'Predicted labels after feature engineering': y_pred_test_after,\n",
        "    'No. of new features': x_test_trf.shape[1]\n",
        "})\n",
        "\n",
        "for i in range(x_test_trf.shape[1]):\n",
        "    output_df[f'new feature {i+1}'] = x_test_trf.iloc[:, i]\n",
        "\n",
        "output_df"
      ]
    },
    {
      "cell_type": "code",
      "execution_count": null,
      "metadata": {
        "id": "VOowE9YImv1a"
      },
      "outputs": [],
      "source": [
        "output_df.to_csv('/content/drive/MyDrive/Colab Notebooks/files/190377T_label_2.csv', index=False)"
      ]
    }
  ],
  "metadata": {
    "colab": {
      "provenance": []
    },
    "kernelspec": {
      "display_name": "Python 3",
      "name": "python3"
    },
    "language_info": {
      "name": "python"
    }
  },
  "nbformat": 4,
  "nbformat_minor": 0
}
